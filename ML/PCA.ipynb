{
 "cells": [
  {
   "cell_type": "code",
   "execution_count": 1,
   "metadata": {
    "id": "Sdf9F1FNx7Co"
   },
   "outputs": [],
   "source": [
    "# Importing the libraries\n",
    "import numpy as np\n",
    "import matplotlib.pyplot as plt\n",
    "import pandas as pd\n"
   ]
  },
  {
   "cell_type": "markdown",
   "metadata": {},
   "source": [
    "# Feature Reduction using PCA "
   ]
  },
  {
   "cell_type": "code",
   "execution_count": 3,
   "metadata": {
    "id": "gXDOG2nnEYIC"
   },
   "outputs": [],
   "source": [
    "dataset = pd.read_csv('http://archive.ics.uci.edu/ml/machine-learning-databases/wine/wine.data',header=None)"
   ]
  },
  {
   "cell_type": "code",
   "execution_count": 8,
   "metadata": {
    "colab": {
     "base_uri": "https://localhost:8080/",
     "height": 423
    },
    "id": "boynV237EvaN",
    "outputId": "9c8ff1c7-ee5c-4a6c-dbaf-2ed7f6d46346"
   },
   "outputs": [
    {
     "data": {
      "text/html": [
       "<div>\n",
       "<style scoped>\n",
       "    .dataframe tbody tr th:only-of-type {\n",
       "        vertical-align: middle;\n",
       "    }\n",
       "\n",
       "    .dataframe tbody tr th {\n",
       "        vertical-align: top;\n",
       "    }\n",
       "\n",
       "    .dataframe thead th {\n",
       "        text-align: right;\n",
       "    }\n",
       "</style>\n",
       "<table border=\"1\" class=\"dataframe\">\n",
       "  <thead>\n",
       "    <tr style=\"text-align: right;\">\n",
       "      <th></th>\n",
       "      <th>0</th>\n",
       "      <th>1</th>\n",
       "      <th>2</th>\n",
       "      <th>3</th>\n",
       "      <th>4</th>\n",
       "      <th>5</th>\n",
       "      <th>6</th>\n",
       "      <th>7</th>\n",
       "      <th>8</th>\n",
       "      <th>9</th>\n",
       "      <th>10</th>\n",
       "      <th>11</th>\n",
       "      <th>12</th>\n",
       "      <th>13</th>\n",
       "    </tr>\n",
       "  </thead>\n",
       "  <tbody>\n",
       "    <tr>\n",
       "      <th>0</th>\n",
       "      <td>1</td>\n",
       "      <td>14.23</td>\n",
       "      <td>1.71</td>\n",
       "      <td>2.43</td>\n",
       "      <td>15.6</td>\n",
       "      <td>127</td>\n",
       "      <td>2.80</td>\n",
       "      <td>3.06</td>\n",
       "      <td>0.28</td>\n",
       "      <td>2.29</td>\n",
       "      <td>5.64</td>\n",
       "      <td>1.04</td>\n",
       "      <td>3.92</td>\n",
       "      <td>1065</td>\n",
       "    </tr>\n",
       "    <tr>\n",
       "      <th>1</th>\n",
       "      <td>1</td>\n",
       "      <td>13.20</td>\n",
       "      <td>1.78</td>\n",
       "      <td>2.14</td>\n",
       "      <td>11.2</td>\n",
       "      <td>100</td>\n",
       "      <td>2.65</td>\n",
       "      <td>2.76</td>\n",
       "      <td>0.26</td>\n",
       "      <td>1.28</td>\n",
       "      <td>4.38</td>\n",
       "      <td>1.05</td>\n",
       "      <td>3.40</td>\n",
       "      <td>1050</td>\n",
       "    </tr>\n",
       "    <tr>\n",
       "      <th>2</th>\n",
       "      <td>1</td>\n",
       "      <td>13.16</td>\n",
       "      <td>2.36</td>\n",
       "      <td>2.67</td>\n",
       "      <td>18.6</td>\n",
       "      <td>101</td>\n",
       "      <td>2.80</td>\n",
       "      <td>3.24</td>\n",
       "      <td>0.30</td>\n",
       "      <td>2.81</td>\n",
       "      <td>5.68</td>\n",
       "      <td>1.03</td>\n",
       "      <td>3.17</td>\n",
       "      <td>1185</td>\n",
       "    </tr>\n",
       "    <tr>\n",
       "      <th>3</th>\n",
       "      <td>1</td>\n",
       "      <td>14.37</td>\n",
       "      <td>1.95</td>\n",
       "      <td>2.50</td>\n",
       "      <td>16.8</td>\n",
       "      <td>113</td>\n",
       "      <td>3.85</td>\n",
       "      <td>3.49</td>\n",
       "      <td>0.24</td>\n",
       "      <td>2.18</td>\n",
       "      <td>7.80</td>\n",
       "      <td>0.86</td>\n",
       "      <td>3.45</td>\n",
       "      <td>1480</td>\n",
       "    </tr>\n",
       "    <tr>\n",
       "      <th>4</th>\n",
       "      <td>1</td>\n",
       "      <td>13.24</td>\n",
       "      <td>2.59</td>\n",
       "      <td>2.87</td>\n",
       "      <td>21.0</td>\n",
       "      <td>118</td>\n",
       "      <td>2.80</td>\n",
       "      <td>2.69</td>\n",
       "      <td>0.39</td>\n",
       "      <td>1.82</td>\n",
       "      <td>4.32</td>\n",
       "      <td>1.04</td>\n",
       "      <td>2.93</td>\n",
       "      <td>735</td>\n",
       "    </tr>\n",
       "    <tr>\n",
       "      <th>...</th>\n",
       "      <td>...</td>\n",
       "      <td>...</td>\n",
       "      <td>...</td>\n",
       "      <td>...</td>\n",
       "      <td>...</td>\n",
       "      <td>...</td>\n",
       "      <td>...</td>\n",
       "      <td>...</td>\n",
       "      <td>...</td>\n",
       "      <td>...</td>\n",
       "      <td>...</td>\n",
       "      <td>...</td>\n",
       "      <td>...</td>\n",
       "      <td>...</td>\n",
       "    </tr>\n",
       "    <tr>\n",
       "      <th>173</th>\n",
       "      <td>3</td>\n",
       "      <td>13.71</td>\n",
       "      <td>5.65</td>\n",
       "      <td>2.45</td>\n",
       "      <td>20.5</td>\n",
       "      <td>95</td>\n",
       "      <td>1.68</td>\n",
       "      <td>0.61</td>\n",
       "      <td>0.52</td>\n",
       "      <td>1.06</td>\n",
       "      <td>7.70</td>\n",
       "      <td>0.64</td>\n",
       "      <td>1.74</td>\n",
       "      <td>740</td>\n",
       "    </tr>\n",
       "    <tr>\n",
       "      <th>174</th>\n",
       "      <td>3</td>\n",
       "      <td>13.40</td>\n",
       "      <td>3.91</td>\n",
       "      <td>2.48</td>\n",
       "      <td>23.0</td>\n",
       "      <td>102</td>\n",
       "      <td>1.80</td>\n",
       "      <td>0.75</td>\n",
       "      <td>0.43</td>\n",
       "      <td>1.41</td>\n",
       "      <td>7.30</td>\n",
       "      <td>0.70</td>\n",
       "      <td>1.56</td>\n",
       "      <td>750</td>\n",
       "    </tr>\n",
       "    <tr>\n",
       "      <th>175</th>\n",
       "      <td>3</td>\n",
       "      <td>13.27</td>\n",
       "      <td>4.28</td>\n",
       "      <td>2.26</td>\n",
       "      <td>20.0</td>\n",
       "      <td>120</td>\n",
       "      <td>1.59</td>\n",
       "      <td>0.69</td>\n",
       "      <td>0.43</td>\n",
       "      <td>1.35</td>\n",
       "      <td>10.20</td>\n",
       "      <td>0.59</td>\n",
       "      <td>1.56</td>\n",
       "      <td>835</td>\n",
       "    </tr>\n",
       "    <tr>\n",
       "      <th>176</th>\n",
       "      <td>3</td>\n",
       "      <td>13.17</td>\n",
       "      <td>2.59</td>\n",
       "      <td>2.37</td>\n",
       "      <td>20.0</td>\n",
       "      <td>120</td>\n",
       "      <td>1.65</td>\n",
       "      <td>0.68</td>\n",
       "      <td>0.53</td>\n",
       "      <td>1.46</td>\n",
       "      <td>9.30</td>\n",
       "      <td>0.60</td>\n",
       "      <td>1.62</td>\n",
       "      <td>840</td>\n",
       "    </tr>\n",
       "    <tr>\n",
       "      <th>177</th>\n",
       "      <td>3</td>\n",
       "      <td>14.13</td>\n",
       "      <td>4.10</td>\n",
       "      <td>2.74</td>\n",
       "      <td>24.5</td>\n",
       "      <td>96</td>\n",
       "      <td>2.05</td>\n",
       "      <td>0.76</td>\n",
       "      <td>0.56</td>\n",
       "      <td>1.35</td>\n",
       "      <td>9.20</td>\n",
       "      <td>0.61</td>\n",
       "      <td>1.60</td>\n",
       "      <td>560</td>\n",
       "    </tr>\n",
       "  </tbody>\n",
       "</table>\n",
       "<p>178 rows × 14 columns</p>\n",
       "</div>"
      ],
      "text/plain": [
       "     0      1     2     3     4    5     6     7     8     9      10    11  \\\n",
       "0     1  14.23  1.71  2.43  15.6  127  2.80  3.06  0.28  2.29   5.64  1.04   \n",
       "1     1  13.20  1.78  2.14  11.2  100  2.65  2.76  0.26  1.28   4.38  1.05   \n",
       "2     1  13.16  2.36  2.67  18.6  101  2.80  3.24  0.30  2.81   5.68  1.03   \n",
       "3     1  14.37  1.95  2.50  16.8  113  3.85  3.49  0.24  2.18   7.80  0.86   \n",
       "4     1  13.24  2.59  2.87  21.0  118  2.80  2.69  0.39  1.82   4.32  1.04   \n",
       "..   ..    ...   ...   ...   ...  ...   ...   ...   ...   ...    ...   ...   \n",
       "173   3  13.71  5.65  2.45  20.5   95  1.68  0.61  0.52  1.06   7.70  0.64   \n",
       "174   3  13.40  3.91  2.48  23.0  102  1.80  0.75  0.43  1.41   7.30  0.70   \n",
       "175   3  13.27  4.28  2.26  20.0  120  1.59  0.69  0.43  1.35  10.20  0.59   \n",
       "176   3  13.17  2.59  2.37  20.0  120  1.65  0.68  0.53  1.46   9.30  0.60   \n",
       "177   3  14.13  4.10  2.74  24.5   96  2.05  0.76  0.56  1.35   9.20  0.61   \n",
       "\n",
       "       12    13  \n",
       "0    3.92  1065  \n",
       "1    3.40  1050  \n",
       "2    3.17  1185  \n",
       "3    3.45  1480  \n",
       "4    2.93   735  \n",
       "..    ...   ...  \n",
       "173  1.74   740  \n",
       "174  1.56   750  \n",
       "175  1.56   835  \n",
       "176  1.62   840  \n",
       "177  1.60   560  \n",
       "\n",
       "[178 rows x 14 columns]"
      ]
     },
     "execution_count": 8,
     "metadata": {},
     "output_type": "execute_result"
    }
   ],
   "source": [
    "dataset"
   ]
  },
  {
   "cell_type": "code",
   "execution_count": 4,
   "metadata": {
    "id": "1-VHnuHuFByt"
   },
   "outputs": [],
   "source": [
    "dataset.columns = ['Label', 'Alcohol', 'Malic Acid', 'Ash', 'Alcalinity of ash ', 'Magnesium', 'Total phenols', 'Flavanoids' , 'Nonflavanoid phenols', 'Proanthocyanins', 'Color intensity', 'Hue', 'OD280/OD315 of diluted wines', 'Proline']"
   ]
  },
  {
   "cell_type": "code",
   "execution_count": 7,
   "metadata": {
    "colab": {
     "base_uri": "https://localhost:8080/",
     "height": 478
    },
    "id": "MniTVEEWFDIn",
    "outputId": "3f715212-7fb0-4488-e3ad-533faa4d9816"
   },
   "outputs": [
    {
     "data": {
      "text/html": [
       "<div>\n",
       "<style scoped>\n",
       "    .dataframe tbody tr th:only-of-type {\n",
       "        vertical-align: middle;\n",
       "    }\n",
       "\n",
       "    .dataframe tbody tr th {\n",
       "        vertical-align: top;\n",
       "    }\n",
       "\n",
       "    .dataframe thead th {\n",
       "        text-align: right;\n",
       "    }\n",
       "</style>\n",
       "<table border=\"1\" class=\"dataframe\">\n",
       "  <thead>\n",
       "    <tr style=\"text-align: right;\">\n",
       "      <th></th>\n",
       "      <th>Label</th>\n",
       "      <th>Alcohol</th>\n",
       "      <th>Malic Acid</th>\n",
       "      <th>Ash</th>\n",
       "      <th>Alcalinity of ash</th>\n",
       "      <th>Magnesium</th>\n",
       "      <th>Total phenols</th>\n",
       "      <th>Flavanoids</th>\n",
       "      <th>Nonflavanoid phenols</th>\n",
       "      <th>Proanthocyanins</th>\n",
       "      <th>Color intensity</th>\n",
       "      <th>Hue</th>\n",
       "      <th>OD280/OD315 of diluted wines</th>\n",
       "      <th>Proline</th>\n",
       "    </tr>\n",
       "  </thead>\n",
       "  <tbody>\n",
       "    <tr>\n",
       "      <th>0</th>\n",
       "      <td>1</td>\n",
       "      <td>14.23</td>\n",
       "      <td>1.71</td>\n",
       "      <td>2.43</td>\n",
       "      <td>15.6</td>\n",
       "      <td>127</td>\n",
       "      <td>2.80</td>\n",
       "      <td>3.06</td>\n",
       "      <td>0.28</td>\n",
       "      <td>2.29</td>\n",
       "      <td>5.64</td>\n",
       "      <td>1.04</td>\n",
       "      <td>3.92</td>\n",
       "      <td>1065</td>\n",
       "    </tr>\n",
       "    <tr>\n",
       "      <th>1</th>\n",
       "      <td>1</td>\n",
       "      <td>13.20</td>\n",
       "      <td>1.78</td>\n",
       "      <td>2.14</td>\n",
       "      <td>11.2</td>\n",
       "      <td>100</td>\n",
       "      <td>2.65</td>\n",
       "      <td>2.76</td>\n",
       "      <td>0.26</td>\n",
       "      <td>1.28</td>\n",
       "      <td>4.38</td>\n",
       "      <td>1.05</td>\n",
       "      <td>3.40</td>\n",
       "      <td>1050</td>\n",
       "    </tr>\n",
       "    <tr>\n",
       "      <th>2</th>\n",
       "      <td>1</td>\n",
       "      <td>13.16</td>\n",
       "      <td>2.36</td>\n",
       "      <td>2.67</td>\n",
       "      <td>18.6</td>\n",
       "      <td>101</td>\n",
       "      <td>2.80</td>\n",
       "      <td>3.24</td>\n",
       "      <td>0.30</td>\n",
       "      <td>2.81</td>\n",
       "      <td>5.68</td>\n",
       "      <td>1.03</td>\n",
       "      <td>3.17</td>\n",
       "      <td>1185</td>\n",
       "    </tr>\n",
       "    <tr>\n",
       "      <th>3</th>\n",
       "      <td>1</td>\n",
       "      <td>14.37</td>\n",
       "      <td>1.95</td>\n",
       "      <td>2.50</td>\n",
       "      <td>16.8</td>\n",
       "      <td>113</td>\n",
       "      <td>3.85</td>\n",
       "      <td>3.49</td>\n",
       "      <td>0.24</td>\n",
       "      <td>2.18</td>\n",
       "      <td>7.80</td>\n",
       "      <td>0.86</td>\n",
       "      <td>3.45</td>\n",
       "      <td>1480</td>\n",
       "    </tr>\n",
       "    <tr>\n",
       "      <th>4</th>\n",
       "      <td>1</td>\n",
       "      <td>13.24</td>\n",
       "      <td>2.59</td>\n",
       "      <td>2.87</td>\n",
       "      <td>21.0</td>\n",
       "      <td>118</td>\n",
       "      <td>2.80</td>\n",
       "      <td>2.69</td>\n",
       "      <td>0.39</td>\n",
       "      <td>1.82</td>\n",
       "      <td>4.32</td>\n",
       "      <td>1.04</td>\n",
       "      <td>2.93</td>\n",
       "      <td>735</td>\n",
       "    </tr>\n",
       "    <tr>\n",
       "      <th>...</th>\n",
       "      <td>...</td>\n",
       "      <td>...</td>\n",
       "      <td>...</td>\n",
       "      <td>...</td>\n",
       "      <td>...</td>\n",
       "      <td>...</td>\n",
       "      <td>...</td>\n",
       "      <td>...</td>\n",
       "      <td>...</td>\n",
       "      <td>...</td>\n",
       "      <td>...</td>\n",
       "      <td>...</td>\n",
       "      <td>...</td>\n",
       "      <td>...</td>\n",
       "    </tr>\n",
       "    <tr>\n",
       "      <th>173</th>\n",
       "      <td>3</td>\n",
       "      <td>13.71</td>\n",
       "      <td>5.65</td>\n",
       "      <td>2.45</td>\n",
       "      <td>20.5</td>\n",
       "      <td>95</td>\n",
       "      <td>1.68</td>\n",
       "      <td>0.61</td>\n",
       "      <td>0.52</td>\n",
       "      <td>1.06</td>\n",
       "      <td>7.70</td>\n",
       "      <td>0.64</td>\n",
       "      <td>1.74</td>\n",
       "      <td>740</td>\n",
       "    </tr>\n",
       "    <tr>\n",
       "      <th>174</th>\n",
       "      <td>3</td>\n",
       "      <td>13.40</td>\n",
       "      <td>3.91</td>\n",
       "      <td>2.48</td>\n",
       "      <td>23.0</td>\n",
       "      <td>102</td>\n",
       "      <td>1.80</td>\n",
       "      <td>0.75</td>\n",
       "      <td>0.43</td>\n",
       "      <td>1.41</td>\n",
       "      <td>7.30</td>\n",
       "      <td>0.70</td>\n",
       "      <td>1.56</td>\n",
       "      <td>750</td>\n",
       "    </tr>\n",
       "    <tr>\n",
       "      <th>175</th>\n",
       "      <td>3</td>\n",
       "      <td>13.27</td>\n",
       "      <td>4.28</td>\n",
       "      <td>2.26</td>\n",
       "      <td>20.0</td>\n",
       "      <td>120</td>\n",
       "      <td>1.59</td>\n",
       "      <td>0.69</td>\n",
       "      <td>0.43</td>\n",
       "      <td>1.35</td>\n",
       "      <td>10.20</td>\n",
       "      <td>0.59</td>\n",
       "      <td>1.56</td>\n",
       "      <td>835</td>\n",
       "    </tr>\n",
       "    <tr>\n",
       "      <th>176</th>\n",
       "      <td>3</td>\n",
       "      <td>13.17</td>\n",
       "      <td>2.59</td>\n",
       "      <td>2.37</td>\n",
       "      <td>20.0</td>\n",
       "      <td>120</td>\n",
       "      <td>1.65</td>\n",
       "      <td>0.68</td>\n",
       "      <td>0.53</td>\n",
       "      <td>1.46</td>\n",
       "      <td>9.30</td>\n",
       "      <td>0.60</td>\n",
       "      <td>1.62</td>\n",
       "      <td>840</td>\n",
       "    </tr>\n",
       "    <tr>\n",
       "      <th>177</th>\n",
       "      <td>3</td>\n",
       "      <td>14.13</td>\n",
       "      <td>4.10</td>\n",
       "      <td>2.74</td>\n",
       "      <td>24.5</td>\n",
       "      <td>96</td>\n",
       "      <td>2.05</td>\n",
       "      <td>0.76</td>\n",
       "      <td>0.56</td>\n",
       "      <td>1.35</td>\n",
       "      <td>9.20</td>\n",
       "      <td>0.61</td>\n",
       "      <td>1.60</td>\n",
       "      <td>560</td>\n",
       "    </tr>\n",
       "  </tbody>\n",
       "</table>\n",
       "<p>178 rows × 14 columns</p>\n",
       "</div>"
      ],
      "text/plain": [
       "     Label  Alcohol  Malic Acid   Ash  Alcalinity of ash   Magnesium  \\\n",
       "0        1    14.23        1.71  2.43                15.6        127   \n",
       "1        1    13.20        1.78  2.14                11.2        100   \n",
       "2        1    13.16        2.36  2.67                18.6        101   \n",
       "3        1    14.37        1.95  2.50                16.8        113   \n",
       "4        1    13.24        2.59  2.87                21.0        118   \n",
       "..     ...      ...         ...   ...                 ...        ...   \n",
       "173      3    13.71        5.65  2.45                20.5         95   \n",
       "174      3    13.40        3.91  2.48                23.0        102   \n",
       "175      3    13.27        4.28  2.26                20.0        120   \n",
       "176      3    13.17        2.59  2.37                20.0        120   \n",
       "177      3    14.13        4.10  2.74                24.5         96   \n",
       "\n",
       "     Total phenols  Flavanoids  Nonflavanoid phenols  Proanthocyanins  \\\n",
       "0             2.80        3.06                  0.28             2.29   \n",
       "1             2.65        2.76                  0.26             1.28   \n",
       "2             2.80        3.24                  0.30             2.81   \n",
       "3             3.85        3.49                  0.24             2.18   \n",
       "4             2.80        2.69                  0.39             1.82   \n",
       "..             ...         ...                   ...              ...   \n",
       "173           1.68        0.61                  0.52             1.06   \n",
       "174           1.80        0.75                  0.43             1.41   \n",
       "175           1.59        0.69                  0.43             1.35   \n",
       "176           1.65        0.68                  0.53             1.46   \n",
       "177           2.05        0.76                  0.56             1.35   \n",
       "\n",
       "     Color intensity   Hue  OD280/OD315 of diluted wines  Proline  \n",
       "0               5.64  1.04                          3.92     1065  \n",
       "1               4.38  1.05                          3.40     1050  \n",
       "2               5.68  1.03                          3.17     1185  \n",
       "3               7.80  0.86                          3.45     1480  \n",
       "4               4.32  1.04                          2.93      735  \n",
       "..               ...   ...                           ...      ...  \n",
       "173             7.70  0.64                          1.74      740  \n",
       "174             7.30  0.70                          1.56      750  \n",
       "175            10.20  0.59                          1.56      835  \n",
       "176             9.30  0.60                          1.62      840  \n",
       "177             9.20  0.61                          1.60      560  \n",
       "\n",
       "[178 rows x 14 columns]"
      ]
     },
     "execution_count": 7,
     "metadata": {},
     "output_type": "execute_result"
    }
   ],
   "source": [
    "dataset"
   ]
  },
  {
   "cell_type": "code",
   "execution_count": 13,
   "metadata": {},
   "outputs": [],
   "source": [
    "dataset.to_csv('Wine_data.csv',index=False)"
   ]
  },
  {
   "cell_type": "code",
   "execution_count": 14,
   "metadata": {
    "colab": {
     "base_uri": "https://localhost:8080/"
    },
    "id": "TVV_6a-TNo5w",
    "outputId": "abc1721b-7c71-4665-88cc-9aed36cbcfb5"
   },
   "outputs": [
    {
     "name": "stdout",
     "output_type": "stream",
     "text": [
      "(178, 14)\n"
     ]
    }
   ],
   "source": [
    "#Print Total number of Rows & columns in dataset\n",
    "print(dataset.shape)"
   ]
  },
  {
   "cell_type": "code",
   "execution_count": 6,
   "metadata": {
    "colab": {
     "base_uri": "https://localhost:8080/"
    },
    "id": "IEi2neEQNx_M",
    "outputId": "55eefeec-372e-4cc0-ecd8-ab7aa07d9b66"
   },
   "outputs": [
    {
     "name": "stdout",
     "output_type": "stream",
     "text": [
      "<class 'pandas.core.frame.DataFrame'>\n",
      "RangeIndex: 178 entries, 0 to 177\n",
      "Data columns (total 14 columns):\n",
      " #   Column                        Non-Null Count  Dtype  \n",
      "---  ------                        --------------  -----  \n",
      " 0   Label                         178 non-null    int64  \n",
      " 1   Alcohol                       178 non-null    float64\n",
      " 2   Malic Acid                    178 non-null    float64\n",
      " 3   Ash                           178 non-null    float64\n",
      " 4   Alcalinity of ash             178 non-null    float64\n",
      " 5   Magnesium                     178 non-null    int64  \n",
      " 6   Total phenols                 178 non-null    float64\n",
      " 7   Flavanoids                    178 non-null    float64\n",
      " 8   Nonflavanoid phenols          178 non-null    float64\n",
      " 9   Proanthocyanins               178 non-null    float64\n",
      " 10  Color intensity               178 non-null    float64\n",
      " 11  Hue                           178 non-null    float64\n",
      " 12  OD280/OD315 of diluted wines  178 non-null    float64\n",
      " 13  Proline                       178 non-null    int64  \n",
      "dtypes: float64(11), int64(3)\n",
      "memory usage: 19.6 KB\n"
     ]
    }
   ],
   "source": [
    "#Print Information about data\n",
    "dataset.info()"
   ]
  },
  {
   "cell_type": "code",
   "execution_count": null,
   "metadata": {
    "colab": {
     "base_uri": "https://localhost:8080/"
    },
    "id": "cS95b7e6N32A",
    "outputId": "8d83bfe5-ef9e-4883-e1b3-09eec2571033"
   },
   "outputs": [
    {
     "name": "stdout",
     "output_type": "stream",
     "text": [
      "Alcohol                 float64\n",
      "Malic_Acid              float64\n",
      "Ash                     float64\n",
      "Ash_Alcanity            float64\n",
      "Magnesium                 int64\n",
      "Total_Phenols           float64\n",
      "Flavanoids              float64\n",
      "Nonflavanoid_Phenols    float64\n",
      "Proanthocyanins         float64\n",
      "Color_Intensity         float64\n",
      "Hue                     float64\n",
      "OD280                   float64\n",
      "Proline                   int64\n",
      "Customer_Segment          int64\n",
      "dtype: object\n"
     ]
    }
   ],
   "source": [
    "types = dataset.dtypes\n",
    "print(types)"
   ]
  },
  {
   "cell_type": "code",
   "execution_count": null,
   "metadata": {
    "colab": {
     "base_uri": "https://localhost:8080/",
     "height": 364
    },
    "id": "GMZ34DveLpa5",
    "outputId": "268da950-3c55-41c7-9215-c18ecfe54565"
   },
   "outputs": [
    {
     "data": {
      "text/html": [
       "\n",
       "  <div id=\"df-f68411a1-dd8d-4c9f-a757-3f35f5380bce\">\n",
       "    <div class=\"colab-df-container\">\n",
       "      <div>\n",
       "<style scoped>\n",
       "    .dataframe tbody tr th:only-of-type {\n",
       "        vertical-align: middle;\n",
       "    }\n",
       "\n",
       "    .dataframe tbody tr th {\n",
       "        vertical-align: top;\n",
       "    }\n",
       "\n",
       "    .dataframe thead th {\n",
       "        text-align: right;\n",
       "    }\n",
       "</style>\n",
       "<table border=\"1\" class=\"dataframe\">\n",
       "  <thead>\n",
       "    <tr style=\"text-align: right;\">\n",
       "      <th></th>\n",
       "      <th>Alcohol</th>\n",
       "      <th>Malic_Acid</th>\n",
       "      <th>Ash</th>\n",
       "      <th>Ash_Alcanity</th>\n",
       "      <th>Magnesium</th>\n",
       "      <th>Total_Phenols</th>\n",
       "      <th>Flavanoids</th>\n",
       "      <th>Nonflavanoid_Phenols</th>\n",
       "      <th>Proanthocyanins</th>\n",
       "      <th>Color_Intensity</th>\n",
       "      <th>Hue</th>\n",
       "      <th>OD280</th>\n",
       "      <th>Proline</th>\n",
       "      <th>Customer_Segment</th>\n",
       "    </tr>\n",
       "  </thead>\n",
       "  <tbody>\n",
       "    <tr>\n",
       "      <th>count</th>\n",
       "      <td>178.000000</td>\n",
       "      <td>178.000000</td>\n",
       "      <td>178.000000</td>\n",
       "      <td>178.000000</td>\n",
       "      <td>178.000000</td>\n",
       "      <td>178.000000</td>\n",
       "      <td>178.000000</td>\n",
       "      <td>178.000000</td>\n",
       "      <td>178.000000</td>\n",
       "      <td>178.000000</td>\n",
       "      <td>178.000000</td>\n",
       "      <td>178.000000</td>\n",
       "      <td>178.000000</td>\n",
       "      <td>178.000000</td>\n",
       "    </tr>\n",
       "    <tr>\n",
       "      <th>mean</th>\n",
       "      <td>13.000618</td>\n",
       "      <td>2.336348</td>\n",
       "      <td>2.366517</td>\n",
       "      <td>19.494944</td>\n",
       "      <td>99.741573</td>\n",
       "      <td>2.295112</td>\n",
       "      <td>2.029270</td>\n",
       "      <td>0.361854</td>\n",
       "      <td>1.590899</td>\n",
       "      <td>5.058090</td>\n",
       "      <td>0.957449</td>\n",
       "      <td>2.611685</td>\n",
       "      <td>746.893258</td>\n",
       "      <td>1.938202</td>\n",
       "    </tr>\n",
       "    <tr>\n",
       "      <th>std</th>\n",
       "      <td>0.811827</td>\n",
       "      <td>1.117146</td>\n",
       "      <td>0.274344</td>\n",
       "      <td>3.339564</td>\n",
       "      <td>14.282484</td>\n",
       "      <td>0.625851</td>\n",
       "      <td>0.998859</td>\n",
       "      <td>0.124453</td>\n",
       "      <td>0.572359</td>\n",
       "      <td>2.318286</td>\n",
       "      <td>0.228572</td>\n",
       "      <td>0.709990</td>\n",
       "      <td>314.907474</td>\n",
       "      <td>0.775035</td>\n",
       "    </tr>\n",
       "    <tr>\n",
       "      <th>min</th>\n",
       "      <td>11.030000</td>\n",
       "      <td>0.740000</td>\n",
       "      <td>1.360000</td>\n",
       "      <td>10.600000</td>\n",
       "      <td>70.000000</td>\n",
       "      <td>0.980000</td>\n",
       "      <td>0.340000</td>\n",
       "      <td>0.130000</td>\n",
       "      <td>0.410000</td>\n",
       "      <td>1.280000</td>\n",
       "      <td>0.480000</td>\n",
       "      <td>1.270000</td>\n",
       "      <td>278.000000</td>\n",
       "      <td>1.000000</td>\n",
       "    </tr>\n",
       "    <tr>\n",
       "      <th>25%</th>\n",
       "      <td>12.362500</td>\n",
       "      <td>1.602500</td>\n",
       "      <td>2.210000</td>\n",
       "      <td>17.200000</td>\n",
       "      <td>88.000000</td>\n",
       "      <td>1.742500</td>\n",
       "      <td>1.205000</td>\n",
       "      <td>0.270000</td>\n",
       "      <td>1.250000</td>\n",
       "      <td>3.220000</td>\n",
       "      <td>0.782500</td>\n",
       "      <td>1.937500</td>\n",
       "      <td>500.500000</td>\n",
       "      <td>1.000000</td>\n",
       "    </tr>\n",
       "    <tr>\n",
       "      <th>50%</th>\n",
       "      <td>13.050000</td>\n",
       "      <td>1.865000</td>\n",
       "      <td>2.360000</td>\n",
       "      <td>19.500000</td>\n",
       "      <td>98.000000</td>\n",
       "      <td>2.355000</td>\n",
       "      <td>2.135000</td>\n",
       "      <td>0.340000</td>\n",
       "      <td>1.555000</td>\n",
       "      <td>4.690000</td>\n",
       "      <td>0.965000</td>\n",
       "      <td>2.780000</td>\n",
       "      <td>673.500000</td>\n",
       "      <td>2.000000</td>\n",
       "    </tr>\n",
       "    <tr>\n",
       "      <th>75%</th>\n",
       "      <td>13.677500</td>\n",
       "      <td>3.082500</td>\n",
       "      <td>2.557500</td>\n",
       "      <td>21.500000</td>\n",
       "      <td>107.000000</td>\n",
       "      <td>2.800000</td>\n",
       "      <td>2.875000</td>\n",
       "      <td>0.437500</td>\n",
       "      <td>1.950000</td>\n",
       "      <td>6.200000</td>\n",
       "      <td>1.120000</td>\n",
       "      <td>3.170000</td>\n",
       "      <td>985.000000</td>\n",
       "      <td>3.000000</td>\n",
       "    </tr>\n",
       "    <tr>\n",
       "      <th>max</th>\n",
       "      <td>14.830000</td>\n",
       "      <td>5.800000</td>\n",
       "      <td>3.230000</td>\n",
       "      <td>30.000000</td>\n",
       "      <td>162.000000</td>\n",
       "      <td>3.880000</td>\n",
       "      <td>5.080000</td>\n",
       "      <td>0.660000</td>\n",
       "      <td>3.580000</td>\n",
       "      <td>13.000000</td>\n",
       "      <td>1.710000</td>\n",
       "      <td>4.000000</td>\n",
       "      <td>1680.000000</td>\n",
       "      <td>3.000000</td>\n",
       "    </tr>\n",
       "  </tbody>\n",
       "</table>\n",
       "</div>\n",
       "      <button class=\"colab-df-convert\" onclick=\"convertToInteractive('df-f68411a1-dd8d-4c9f-a757-3f35f5380bce')\"\n",
       "              title=\"Convert this dataframe to an interactive table.\"\n",
       "              style=\"display:none;\">\n",
       "        \n",
       "  <svg xmlns=\"http://www.w3.org/2000/svg\" height=\"24px\"viewBox=\"0 0 24 24\"\n",
       "       width=\"24px\">\n",
       "    <path d=\"M0 0h24v24H0V0z\" fill=\"none\"/>\n",
       "    <path d=\"M18.56 5.44l.94 2.06.94-2.06 2.06-.94-2.06-.94-.94-2.06-.94 2.06-2.06.94zm-11 1L8.5 8.5l.94-2.06 2.06-.94-2.06-.94L8.5 2.5l-.94 2.06-2.06.94zm10 10l.94 2.06.94-2.06 2.06-.94-2.06-.94-.94-2.06-.94 2.06-2.06.94z\"/><path d=\"M17.41 7.96l-1.37-1.37c-.4-.4-.92-.59-1.43-.59-.52 0-1.04.2-1.43.59L10.3 9.45l-7.72 7.72c-.78.78-.78 2.05 0 2.83L4 21.41c.39.39.9.59 1.41.59.51 0 1.02-.2 1.41-.59l7.78-7.78 2.81-2.81c.8-.78.8-2.07 0-2.86zM5.41 20L4 18.59l7.72-7.72 1.47 1.35L5.41 20z\"/>\n",
       "  </svg>\n",
       "      </button>\n",
       "      \n",
       "  <style>\n",
       "    .colab-df-container {\n",
       "      display:flex;\n",
       "      flex-wrap:wrap;\n",
       "      gap: 12px;\n",
       "    }\n",
       "\n",
       "    .colab-df-convert {\n",
       "      background-color: #E8F0FE;\n",
       "      border: none;\n",
       "      border-radius: 50%;\n",
       "      cursor: pointer;\n",
       "      display: none;\n",
       "      fill: #1967D2;\n",
       "      height: 32px;\n",
       "      padding: 0 0 0 0;\n",
       "      width: 32px;\n",
       "    }\n",
       "\n",
       "    .colab-df-convert:hover {\n",
       "      background-color: #E2EBFA;\n",
       "      box-shadow: 0px 1px 2px rgba(60, 64, 67, 0.3), 0px 1px 3px 1px rgba(60, 64, 67, 0.15);\n",
       "      fill: #174EA6;\n",
       "    }\n",
       "\n",
       "    [theme=dark] .colab-df-convert {\n",
       "      background-color: #3B4455;\n",
       "      fill: #D2E3FC;\n",
       "    }\n",
       "\n",
       "    [theme=dark] .colab-df-convert:hover {\n",
       "      background-color: #434B5C;\n",
       "      box-shadow: 0px 1px 3px 1px rgba(0, 0, 0, 0.15);\n",
       "      filter: drop-shadow(0px 1px 2px rgba(0, 0, 0, 0.3));\n",
       "      fill: #FFFFFF;\n",
       "    }\n",
       "  </style>\n",
       "\n",
       "      <script>\n",
       "        const buttonEl =\n",
       "          document.querySelector('#df-f68411a1-dd8d-4c9f-a757-3f35f5380bce button.colab-df-convert');\n",
       "        buttonEl.style.display =\n",
       "          google.colab.kernel.accessAllowed ? 'block' : 'none';\n",
       "\n",
       "        async function convertToInteractive(key) {\n",
       "          const element = document.querySelector('#df-f68411a1-dd8d-4c9f-a757-3f35f5380bce');\n",
       "          const dataTable =\n",
       "            await google.colab.kernel.invokeFunction('convertToInteractive',\n",
       "                                                     [key], {});\n",
       "          if (!dataTable) return;\n",
       "\n",
       "          const docLinkHtml = 'Like what you see? Visit the ' +\n",
       "            '<a target=\"_blank\" href=https://colab.research.google.com/notebooks/data_table.ipynb>data table notebook</a>'\n",
       "            + ' to learn more about interactive tables.';\n",
       "          element.innerHTML = '';\n",
       "          dataTable['output_type'] = 'display_data';\n",
       "          await google.colab.output.renderOutput(dataTable, element);\n",
       "          const docLink = document.createElement('div');\n",
       "          docLink.innerHTML = docLinkHtml;\n",
       "          element.appendChild(docLink);\n",
       "        }\n",
       "      </script>\n",
       "    </div>\n",
       "  </div>\n",
       "  "
      ],
      "text/plain": [
       "          Alcohol  Malic_Acid         Ash  Ash_Alcanity   Magnesium  \\\n",
       "count  178.000000  178.000000  178.000000    178.000000  178.000000   \n",
       "mean    13.000618    2.336348    2.366517     19.494944   99.741573   \n",
       "std      0.811827    1.117146    0.274344      3.339564   14.282484   \n",
       "min     11.030000    0.740000    1.360000     10.600000   70.000000   \n",
       "25%     12.362500    1.602500    2.210000     17.200000   88.000000   \n",
       "50%     13.050000    1.865000    2.360000     19.500000   98.000000   \n",
       "75%     13.677500    3.082500    2.557500     21.500000  107.000000   \n",
       "max     14.830000    5.800000    3.230000     30.000000  162.000000   \n",
       "\n",
       "       Total_Phenols  Flavanoids  Nonflavanoid_Phenols  Proanthocyanins  \\\n",
       "count     178.000000  178.000000            178.000000       178.000000   \n",
       "mean        2.295112    2.029270              0.361854         1.590899   \n",
       "std         0.625851    0.998859              0.124453         0.572359   \n",
       "min         0.980000    0.340000              0.130000         0.410000   \n",
       "25%         1.742500    1.205000              0.270000         1.250000   \n",
       "50%         2.355000    2.135000              0.340000         1.555000   \n",
       "75%         2.800000    2.875000              0.437500         1.950000   \n",
       "max         3.880000    5.080000              0.660000         3.580000   \n",
       "\n",
       "       Color_Intensity         Hue       OD280      Proline  Customer_Segment  \n",
       "count       178.000000  178.000000  178.000000   178.000000        178.000000  \n",
       "mean          5.058090    0.957449    2.611685   746.893258          1.938202  \n",
       "std           2.318286    0.228572    0.709990   314.907474          0.775035  \n",
       "min           1.280000    0.480000    1.270000   278.000000          1.000000  \n",
       "25%           3.220000    0.782500    1.937500   500.500000          1.000000  \n",
       "50%           4.690000    0.965000    2.780000   673.500000          2.000000  \n",
       "75%           6.200000    1.120000    3.170000   985.000000          3.000000  \n",
       "max          13.000000    1.710000    4.000000  1680.000000          3.000000  "
      ]
     },
     "execution_count": 6,
     "metadata": {},
     "output_type": "execute_result"
    }
   ],
   "source": [
    "dataset.describe()"
   ]
  },
  {
   "cell_type": "code",
   "execution_count": null,
   "metadata": {
    "colab": {
     "base_uri": "https://localhost:8080/",
     "height": 281
    },
    "id": "CemFo1AXOUTF",
    "outputId": "46afcec6-5275-4c37-f4ca-d6be5c969be9"
   },
   "outputs": [
    {
     "data": {
      "image/png": "[encoded data removed]",
      "text/plain": [
       "<Figure size 432x288 with 16 Axes>"
      ]
     },
     "metadata": {
      "needs_background": "light"
     },
     "output_type": "display_data"
    }
   ],
   "source": [
    "import matplotlib.pyplot as plt\n",
    "\n",
    "dataset.hist()\n",
    "plt.show()"
   ]
  },
  {
   "cell_type": "code",
   "execution_count": null,
   "metadata": {
    "colab": {
     "base_uri": "https://localhost:8080/",
     "height": 268
    },
    "id": "yudic4VjOhI7",
    "outputId": "0bae7d56-f2b2-4ec4-ba85-d6e54a15a521"
   },
   "outputs": [
    {
     "data": {
      "image/png": "[encoded data removed]",
      "text/plain": [
       "<Figure size 432x288 with 16 Axes>"
      ]
     },
     "metadata": {
      "needs_background": "light",
      "tags": []
     },
     "output_type": "display_data"
    }
   ],
   "source": [
    "dataset.plot(kind='density' ,subplots=True, layout=(4,4), sharex=False)\n",
    "pyplot.show()"
   ]
  },
  {
   "cell_type": "code",
   "execution_count": null,
   "metadata": {
    "colab": {
     "base_uri": "https://localhost:8080/"
    },
    "id": "9Elrkt2WpZV5",
    "outputId": "0c8797ff-dbec-4343-9ea3-f5089ddb9192"
   },
   "outputs": [
    {
     "data": {
      "text/plain": [
       "pandas.core.frame.DataFrame"
      ]
     },
     "execution_count": 11,
     "metadata": {},
     "output_type": "execute_result"
    }
   ],
   "source": [
    "type(X)"
   ]
  },
  {
   "cell_type": "code",
   "execution_count": null,
   "metadata": {},
   "outputs": [],
   "source": [
    "pred \n",
    "\n",
    "13 features\n",
    "\n",
    "1. std scaler\n",
    "2. pca\n",
    "\n",
    "3. pred"
   ]
  },
  {
   "cell_type": "code",
   "execution_count": 21,
   "metadata": {
    "colab": {
     "base_uri": "https://localhost:8080/",
     "height": 478
    },
    "id": "dpJrtNCRp7Ga",
    "outputId": "723fa045-0e5d-4dfa-a137-7b2dbfd65c96"
   },
   "outputs": [
    {
     "data": {
      "text/html": [
       "\n",
       "  <div id=\"df-2eeeebfe-0642-4423-9f9e-fc00f087df34\" class=\"colab-df-container\">\n",
       "    <div>\n",
       "<style scoped>\n",
       "    .dataframe tbody tr th:only-of-type {\n",
       "        vertical-align: middle;\n",
       "    }\n",
       "\n",
       "    .dataframe tbody tr th {\n",
       "        vertical-align: top;\n",
       "    }\n",
       "\n",
       "    .dataframe thead th {\n",
       "        text-align: right;\n",
       "    }\n",
       "</style>\n",
       "<table border=\"1\" class=\"dataframe\">\n",
       "  <thead>\n",
       "    <tr style=\"text-align: right;\">\n",
       "      <th></th>\n",
       "      <th>Label</th>\n",
       "      <th>Alcohol</th>\n",
       "      <th>Malic Acid</th>\n",
       "      <th>Ash</th>\n",
       "      <th>Alcalinity of ash</th>\n",
       "      <th>Magnesium</th>\n",
       "      <th>Total phenols</th>\n",
       "      <th>Flavanoids</th>\n",
       "      <th>Nonflavanoid phenols</th>\n",
       "      <th>Proanthocyanins</th>\n",
       "      <th>Color intensity</th>\n",
       "      <th>Hue</th>\n",
       "      <th>OD280/OD315 of diluted wines</th>\n",
       "      <th>Proline</th>\n",
       "    </tr>\n",
       "  </thead>\n",
       "  <tbody>\n",
       "    <tr>\n",
       "      <th>0</th>\n",
       "      <td>1</td>\n",
       "      <td>14.23</td>\n",
       "      <td>1.71</td>\n",
       "      <td>2.43</td>\n",
       "      <td>15.6</td>\n",
       "      <td>127</td>\n",
       "      <td>2.80</td>\n",
       "      <td>3.06</td>\n",
       "      <td>0.28</td>\n",
       "      <td>2.29</td>\n",
       "      <td>5.64</td>\n",
       "      <td>1.04</td>\n",
       "      <td>3.92</td>\n",
       "      <td>1065</td>\n",
       "    </tr>\n",
       "    <tr>\n",
       "      <th>1</th>\n",
       "      <td>1</td>\n",
       "      <td>13.20</td>\n",
       "      <td>1.78</td>\n",
       "      <td>2.14</td>\n",
       "      <td>11.2</td>\n",
       "      <td>100</td>\n",
       "      <td>2.65</td>\n",
       "      <td>2.76</td>\n",
       "      <td>0.26</td>\n",
       "      <td>1.28</td>\n",
       "      <td>4.38</td>\n",
       "      <td>1.05</td>\n",
       "      <td>3.40</td>\n",
       "      <td>1050</td>\n",
       "    </tr>\n",
       "    <tr>\n",
       "      <th>2</th>\n",
       "      <td>1</td>\n",
       "      <td>13.16</td>\n",
       "      <td>2.36</td>\n",
       "      <td>2.67</td>\n",
       "      <td>18.6</td>\n",
       "      <td>101</td>\n",
       "      <td>2.80</td>\n",
       "      <td>3.24</td>\n",
       "      <td>0.30</td>\n",
       "      <td>2.81</td>\n",
       "      <td>5.68</td>\n",
       "      <td>1.03</td>\n",
       "      <td>3.17</td>\n",
       "      <td>1185</td>\n",
       "    </tr>\n",
       "    <tr>\n",
       "      <th>3</th>\n",
       "      <td>1</td>\n",
       "      <td>14.37</td>\n",
       "      <td>1.95</td>\n",
       "      <td>2.50</td>\n",
       "      <td>16.8</td>\n",
       "      <td>113</td>\n",
       "      <td>3.85</td>\n",
       "      <td>3.49</td>\n",
       "      <td>0.24</td>\n",
       "      <td>2.18</td>\n",
       "      <td>7.80</td>\n",
       "      <td>0.86</td>\n",
       "      <td>3.45</td>\n",
       "      <td>1480</td>\n",
       "    </tr>\n",
       "    <tr>\n",
       "      <th>4</th>\n",
       "      <td>1</td>\n",
       "      <td>13.24</td>\n",
       "      <td>2.59</td>\n",
       "      <td>2.87</td>\n",
       "      <td>21.0</td>\n",
       "      <td>118</td>\n",
       "      <td>2.80</td>\n",
       "      <td>2.69</td>\n",
       "      <td>0.39</td>\n",
       "      <td>1.82</td>\n",
       "      <td>4.32</td>\n",
       "      <td>1.04</td>\n",
       "      <td>2.93</td>\n",
       "      <td>735</td>\n",
       "    </tr>\n",
       "    <tr>\n",
       "      <th>...</th>\n",
       "      <td>...</td>\n",
       "      <td>...</td>\n",
       "      <td>...</td>\n",
       "      <td>...</td>\n",
       "      <td>...</td>\n",
       "      <td>...</td>\n",
       "      <td>...</td>\n",
       "      <td>...</td>\n",
       "      <td>...</td>\n",
       "      <td>...</td>\n",
       "      <td>...</td>\n",
       "      <td>...</td>\n",
       "      <td>...</td>\n",
       "      <td>...</td>\n",
       "    </tr>\n",
       "    <tr>\n",
       "      <th>173</th>\n",
       "      <td>3</td>\n",
       "      <td>13.71</td>\n",
       "      <td>5.65</td>\n",
       "      <td>2.45</td>\n",
       "      <td>20.5</td>\n",
       "      <td>95</td>\n",
       "      <td>1.68</td>\n",
       "      <td>0.61</td>\n",
       "      <td>0.52</td>\n",
       "      <td>1.06</td>\n",
       "      <td>7.70</td>\n",
       "      <td>0.64</td>\n",
       "      <td>1.74</td>\n",
       "      <td>740</td>\n",
       "    </tr>\n",
       "    <tr>\n",
       "      <th>174</th>\n",
       "      <td>3</td>\n",
       "      <td>13.40</td>\n",
       "      <td>3.91</td>\n",
       "      <td>2.48</td>\n",
       "      <td>23.0</td>\n",
       "      <td>102</td>\n",
       "      <td>1.80</td>\n",
       "      <td>0.75</td>\n",
       "      <td>0.43</td>\n",
       "      <td>1.41</td>\n",
       "      <td>7.30</td>\n",
       "      <td>0.70</td>\n",
       "      <td>1.56</td>\n",
       "      <td>750</td>\n",
       "    </tr>\n",
       "    <tr>\n",
       "      <th>175</th>\n",
       "      <td>3</td>\n",
       "      <td>13.27</td>\n",
       "      <td>4.28</td>\n",
       "      <td>2.26</td>\n",
       "      <td>20.0</td>\n",
       "      <td>120</td>\n",
       "      <td>1.59</td>\n",
       "      <td>0.69</td>\n",
       "      <td>0.43</td>\n",
       "      <td>1.35</td>\n",
       "      <td>10.20</td>\n",
       "      <td>0.59</td>\n",
       "      <td>1.56</td>\n",
       "      <td>835</td>\n",
       "    </tr>\n",
       "    <tr>\n",
       "      <th>176</th>\n",
       "      <td>3</td>\n",
       "      <td>13.17</td>\n",
       "      <td>2.59</td>\n",
       "      <td>2.37</td>\n",
       "      <td>20.0</td>\n",
       "      <td>120</td>\n",
       "      <td>1.65</td>\n",
       "      <td>0.68</td>\n",
       "      <td>0.53</td>\n",
       "      <td>1.46</td>\n",
       "      <td>9.30</td>\n",
       "      <td>0.60</td>\n",
       "      <td>1.62</td>\n",
       "      <td>840</td>\n",
       "    </tr>\n",
       "    <tr>\n",
       "      <th>177</th>\n",
       "      <td>3</td>\n",
       "      <td>14.13</td>\n",
       "      <td>4.10</td>\n",
       "      <td>2.74</td>\n",
       "      <td>24.5</td>\n",
       "      <td>96</td>\n",
       "      <td>2.05</td>\n",
       "      <td>0.76</td>\n",
       "      <td>0.56</td>\n",
       "      <td>1.35</td>\n",
       "      <td>9.20</td>\n",
       "      <td>0.61</td>\n",
       "      <td>1.60</td>\n",
       "      <td>560</td>\n",
       "    </tr>\n",
       "  </tbody>\n",
       "</table>\n",
       "<p>178 rows × 14 columns</p>\n",
       "</div>\n",
       "    <div class=\"colab-df-buttons\">\n",
       "\n",
       "  <div class=\"colab-df-container\">\n",
       "    <button class=\"colab-df-convert\" onclick=\"convertToInteractive('df-2eeeebfe-0642-4423-9f9e-fc00f087df34')\"\n",
       "            title=\"Convert this dataframe to an interactive table.\"\n",
       "            style=\"display:none;\">\n",
       "\n",
       "  <svg xmlns=\"http://www.w3.org/2000/svg\" height=\"24px\" viewBox=\"0 -960 960 960\">\n",
       "    <path d=\"M120-120v-720h720v720H120Zm60-500h600v-160H180v160Zm220 220h160v-160H400v160Zm0 220h160v-160H400v160ZM180-400h160v-160H180v160Zm440 0h160v-160H620v160ZM180-180h160v-160H180v160Zm440 0h160v-160H620v160Z\"/>\n",
       "  </svg>\n",
       "    </button>\n",
       "\n",
       "  <style>\n",
       "    .colab-df-container {\n",
       "      display:flex;\n",
       "      gap: 12px;\n",
       "    }\n",
       "\n",
       "    .colab-df-convert {\n",
       "      background-color: #E8F0FE;\n",
       "      border: none;\n",
       "      border-radius: 50%;\n",
       "      cursor: pointer;\n",
       "      display: none;\n",
       "      fill: #1967D2;\n",
       "      height: 32px;\n",
       "      padding: 0 0 0 0;\n",
       "      width: 32px;\n",
       "    }\n",
       "\n",
       "    .colab-df-convert:hover {\n",
       "      background-color: #E2EBFA;\n",
       "      box-shadow: 0px 1px 2px rgba(60, 64, 67, 0.3), 0px 1px 3px 1px rgba(60, 64, 67, 0.15);\n",
       "      fill: #174EA6;\n",
       "    }\n",
       "\n",
       "    .colab-df-buttons div {\n",
       "      margin-bottom: 4px;\n",
       "    }\n",
       "\n",
       "    [theme=dark] .colab-df-convert {\n",
       "      background-color: #3B4455;\n",
       "      fill: #D2E3FC;\n",
       "    }\n",
       "\n",
       "    [theme=dark] .colab-df-convert:hover {\n",
       "      background-color: #434B5C;\n",
       "      box-shadow: 0px 1px 3px 1px rgba(0, 0, 0, 0.15);\n",
       "      filter: drop-shadow(0px 1px 2px rgba(0, 0, 0, 0.3));\n",
       "      fill: #FFFFFF;\n",
       "    }\n",
       "  </style>\n",
       "\n",
       "    <script>\n",
       "      const buttonEl =\n",
       "        document.querySelector('#df-2eeeebfe-0642-4423-9f9e-fc00f087df34 button.colab-df-convert');\n",
       "      buttonEl.style.display =\n",
       "        google.colab.kernel.accessAllowed ? 'block' : 'none';\n",
       "\n",
       "      async function convertToInteractive(key) {\n",
       "        const element = document.querySelector('#df-2eeeebfe-0642-4423-9f9e-fc00f087df34');\n",
       "        const dataTable =\n",
       "          await google.colab.kernel.invokeFunction('convertToInteractive',\n",
       "                                                    [key], {});\n",
       "        if (!dataTable) return;\n",
       "\n",
       "        const docLinkHtml = 'Like what you see? Visit the ' +\n",
       "          '<a target=\"_blank\" href=https://colab.research.google.com/notebooks/data_table.ipynb>data table notebook</a>'\n",
       "          + ' to learn more about interactive tables.';\n",
       "        element.innerHTML = '';\n",
       "        dataTable['output_type'] = 'display_data';\n",
       "        await google.colab.output.renderOutput(dataTable, element);\n",
       "        const docLink = document.createElement('div');\n",
       "        docLink.innerHTML = docLinkHtml;\n",
       "        element.appendChild(docLink);\n",
       "      }\n",
       "    </script>\n",
       "  </div>\n",
       "\n",
       "\n",
       "<div id=\"df-9a39f2fb-594c-4226-bc18-75bfcec4645d\">\n",
       "  <button class=\"colab-df-quickchart\" onclick=\"quickchart('df-9a39f2fb-594c-4226-bc18-75bfcec4645d')\"\n",
       "            title=\"Suggest charts\"\n",
       "            style=\"display:none;\">\n",
       "\n",
       "<svg xmlns=\"http://www.w3.org/2000/svg\" height=\"24px\"viewBox=\"0 0 24 24\"\n",
       "     width=\"24px\">\n",
       "    <g>\n",
       "        <path d=\"M19 3H5c-1.1 0-2 .9-2 2v14c0 1.1.9 2 2 2h14c1.1 0 2-.9 2-2V5c0-1.1-.9-2-2-2zM9 17H7v-7h2v7zm4 0h-2V7h2v10zm4 0h-2v-4h2v4z\"/>\n",
       "    </g>\n",
       "</svg>\n",
       "  </button>\n",
       "\n",
       "<style>\n",
       "  .colab-df-quickchart {\n",
       "      --bg-color: #E8F0FE;\n",
       "      --fill-color: #1967D2;\n",
       "      --hover-bg-color: #E2EBFA;\n",
       "      --hover-fill-color: #174EA6;\n",
       "      --disabled-fill-color: #AAA;\n",
       "      --disabled-bg-color: #DDD;\n",
       "  }\n",
       "\n",
       "  [theme=dark] .colab-df-quickchart {\n",
       "      --bg-color: #3B4455;\n",
       "      --fill-color: #D2E3FC;\n",
       "      --hover-bg-color: #434B5C;\n",
       "      --hover-fill-color: #FFFFFF;\n",
       "      --disabled-bg-color: #3B4455;\n",
       "      --disabled-fill-color: #666;\n",
       "  }\n",
       "\n",
       "  .colab-df-quickchart {\n",
       "    background-color: var(--bg-color);\n",
       "    border: none;\n",
       "    border-radius: 50%;\n",
       "    cursor: pointer;\n",
       "    display: none;\n",
       "    fill: var(--fill-color);\n",
       "    height: 32px;\n",
       "    padding: 0;\n",
       "    width: 32px;\n",
       "  }\n",
       "\n",
       "  .colab-df-quickchart:hover {\n",
       "    background-color: var(--hover-bg-color);\n",
       "    box-shadow: 0 1px 2px rgba(60, 64, 67, 0.3), 0 1px 3px 1px rgba(60, 64, 67, 0.15);\n",
       "    fill: var(--button-hover-fill-color);\n",
       "  }\n",
       "\n",
       "  .colab-df-quickchart-complete:disabled,\n",
       "  .colab-df-quickchart-complete:disabled:hover {\n",
       "    background-color: var(--disabled-bg-color);\n",
       "    fill: var(--disabled-fill-color);\n",
       "    box-shadow: none;\n",
       "  }\n",
       "\n",
       "  .colab-df-spinner {\n",
       "    border: 2px solid var(--fill-color);\n",
       "    border-color: transparent;\n",
       "    border-bottom-color: var(--fill-color);\n",
       "    animation:\n",
       "      spin 1s steps(1) infinite;\n",
       "  }\n",
       "\n",
       "  @keyframes spin {\n",
       "    0% {\n",
       "      border-color: transparent;\n",
       "      border-bottom-color: var(--fill-color);\n",
       "      border-left-color: var(--fill-color);\n",
       "    }\n",
       "    20% {\n",
       "      border-color: transparent;\n",
       "      border-left-color: var(--fill-color);\n",
       "      border-top-color: var(--fill-color);\n",
       "    }\n",
       "    30% {\n",
       "      border-color: transparent;\n",
       "      border-left-color: var(--fill-color);\n",
       "      border-top-color: var(--fill-color);\n",
       "      border-right-color: var(--fill-color);\n",
       "    }\n",
       "    40% {\n",
       "      border-color: transparent;\n",
       "      border-right-color: var(--fill-color);\n",
       "      border-top-color: var(--fill-color);\n",
       "    }\n",
       "    60% {\n",
       "      border-color: transparent;\n",
       "      border-right-color: var(--fill-color);\n",
       "    }\n",
       "    80% {\n",
       "      border-color: transparent;\n",
       "      border-right-color: var(--fill-color);\n",
       "      border-bottom-color: var(--fill-color);\n",
       "    }\n",
       "    90% {\n",
       "      border-color: transparent;\n",
       "      border-bottom-color: var(--fill-color);\n",
       "    }\n",
       "  }\n",
       "</style>\n",
       "\n",
       "  <script>\n",
       "    async function quickchart(key) {\n",
       "      const quickchartButtonEl =\n",
       "        document.querySelector('#' + key + ' button');\n",
       "      quickchartButtonEl.disabled = true;  // To prevent multiple clicks.\n",
       "      quickchartButtonEl.classList.add('colab-df-spinner');\n",
       "      try {\n",
       "        const charts = await google.colab.kernel.invokeFunction(\n",
       "            'suggestCharts', [key], {});\n",
       "      } catch (error) {\n",
       "        console.error('Error during call to suggestCharts:', error);\n",
       "      }\n",
       "      quickchartButtonEl.classList.remove('colab-df-spinner');\n",
       "      quickchartButtonEl.classList.add('colab-df-quickchart-complete');\n",
       "    }\n",
       "    (() => {\n",
       "      let quickchartButtonEl =\n",
       "        document.querySelector('#df-9a39f2fb-594c-4226-bc18-75bfcec4645d button');\n",
       "      quickchartButtonEl.style.display =\n",
       "        google.colab.kernel.accessAllowed ? 'block' : 'none';\n",
       "    })();\n",
       "  </script>\n",
       "</div>\n",
       "\n",
       "  <div id=\"id_c67154c5-a613-49dd-8160-217069349d75\">\n",
       "    <style>\n",
       "      .colab-df-generate {\n",
       "        background-color: #E8F0FE;\n",
       "        border: none;\n",
       "        border-radius: 50%;\n",
       "        cursor: pointer;\n",
       "        display: none;\n",
       "        fill: #1967D2;\n",
       "        height: 32px;\n",
       "        padding: 0 0 0 0;\n",
       "        width: 32px;\n",
       "      }\n",
       "\n",
       "      .colab-df-generate:hover {\n",
       "        background-color: #E2EBFA;\n",
       "        box-shadow: 0px 1px 2px rgba(60, 64, 67, 0.3), 0px 1px 3px 1px rgba(60, 64, 67, 0.15);\n",
       "        fill: #174EA6;\n",
       "      }\n",
       "\n",
       "      [theme=dark] .colab-df-generate {\n",
       "        background-color: #3B4455;\n",
       "        fill: #D2E3FC;\n",
       "      }\n",
       "\n",
       "      [theme=dark] .colab-df-generate:hover {\n",
       "        background-color: #434B5C;\n",
       "        box-shadow: 0px 1px 3px 1px rgba(0, 0, 0, 0.15);\n",
       "        filter: drop-shadow(0px 1px 2px rgba(0, 0, 0, 0.3));\n",
       "        fill: #FFFFFF;\n",
       "      }\n",
       "    </style>\n",
       "    <button class=\"colab-df-generate\" onclick=\"generateWithVariable('dataset')\"\n",
       "            title=\"Generate code using this dataframe.\"\n",
       "            style=\"display:none;\">\n",
       "\n",
       "  <svg xmlns=\"http://www.w3.org/2000/svg\" height=\"24px\"viewBox=\"0 0 24 24\"\n",
       "       width=\"24px\">\n",
       "    <path d=\"M7,19H8.4L18.45,9,17,7.55,7,17.6ZM5,21V16.75L18.45,3.32a2,2,0,0,1,2.83,0l1.4,1.43a1.91,1.91,0,0,1,.58,1.4,1.91,1.91,0,0,1-.58,1.4L9.25,21ZM18.45,9,17,7.55Zm-12,3A5.31,5.31,0,0,0,4.9,8.1,5.31,5.31,0,0,0,1,6.5,5.31,5.31,0,0,0,4.9,4.9,5.31,5.31,0,0,0,6.5,1,5.31,5.31,0,0,0,8.1,4.9,5.31,5.31,0,0,0,12,6.5,5.46,5.46,0,0,0,6.5,12Z\"/>\n",
       "  </svg>\n",
       "    </button>\n",
       "    <script>\n",
       "      (() => {\n",
       "      const buttonEl =\n",
       "        document.querySelector('#id_c67154c5-a613-49dd-8160-217069349d75 button.colab-df-generate');\n",
       "      buttonEl.style.display =\n",
       "        google.colab.kernel.accessAllowed ? 'block' : 'none';\n",
       "\n",
       "      buttonEl.onclick = () => {\n",
       "        google.colab.notebook.generateWithVariable('dataset');\n",
       "      }\n",
       "      })();\n",
       "    </script>\n",
       "  </div>\n",
       "\n",
       "    </div>\n",
       "  </div>\n"
      ],
      "text/plain": [
       "     Label  Alcohol  Malic Acid   Ash  Alcalinity of ash   Magnesium  \\\n",
       "0        1    14.23        1.71  2.43                15.6        127   \n",
       "1        1    13.20        1.78  2.14                11.2        100   \n",
       "2        1    13.16        2.36  2.67                18.6        101   \n",
       "3        1    14.37        1.95  2.50                16.8        113   \n",
       "4        1    13.24        2.59  2.87                21.0        118   \n",
       "..     ...      ...         ...   ...                 ...        ...   \n",
       "173      3    13.71        5.65  2.45                20.5         95   \n",
       "174      3    13.40        3.91  2.48                23.0        102   \n",
       "175      3    13.27        4.28  2.26                20.0        120   \n",
       "176      3    13.17        2.59  2.37                20.0        120   \n",
       "177      3    14.13        4.10  2.74                24.5         96   \n",
       "\n",
       "     Total phenols  Flavanoids  Nonflavanoid phenols  Proanthocyanins  \\\n",
       "0             2.80        3.06                  0.28             2.29   \n",
       "1             2.65        2.76                  0.26             1.28   \n",
       "2             2.80        3.24                  0.30             2.81   \n",
       "3             3.85        3.49                  0.24             2.18   \n",
       "4             2.80        2.69                  0.39             1.82   \n",
       "..             ...         ...                   ...              ...   \n",
       "173           1.68        0.61                  0.52             1.06   \n",
       "174           1.80        0.75                  0.43             1.41   \n",
       "175           1.59        0.69                  0.43             1.35   \n",
       "176           1.65        0.68                  0.53             1.46   \n",
       "177           2.05        0.76                  0.56             1.35   \n",
       "\n",
       "     Color intensity   Hue  OD280/OD315 of diluted wines  Proline  \n",
       "0               5.64  1.04                          3.92     1065  \n",
       "1               4.38  1.05                          3.40     1050  \n",
       "2               5.68  1.03                          3.17     1185  \n",
       "3               7.80  0.86                          3.45     1480  \n",
       "4               4.32  1.04                          2.93      735  \n",
       "..               ...   ...                           ...      ...  \n",
       "173             7.70  0.64                          1.74      740  \n",
       "174             7.30  0.70                          1.56      750  \n",
       "175            10.20  0.59                          1.56      835  \n",
       "176             9.30  0.60                          1.62      840  \n",
       "177             9.20  0.61                          1.60      560  \n",
       "\n",
       "[178 rows x 14 columns]"
      ]
     },
     "execution_count": 21,
     "metadata": {},
     "output_type": "execute_result"
    }
   ],
   "source": [
    "dataset"
   ]
  },
  {
   "cell_type": "code",
   "execution_count": null,
   "metadata": {
    "id": "UgAROW2up_xx"
   },
   "outputs": [],
   "source": [
    "# iloc- indexed location\n",
    "# [Rows,Col]\n",
    "# : ALL, col 0:13- 0 to 12"
   ]
  },
  {
   "cell_type": "code",
   "execution_count": 8,
   "metadata": {
    "id": "KtqbrjPizzuA"
   },
   "outputs": [],
   "source": [
    "# Extracting features of dataset\n",
    "X = dataset.iloc[:, 1:14].values \n",
    "y = dataset.iloc[:,0].values"
   ]
  },
  {
   "cell_type": "code",
   "execution_count": 9,
   "metadata": {
    "colab": {
     "base_uri": "https://localhost:8080/"
    },
    "id": "P-vCWMrLyTC6",
    "outputId": "46c207cb-3e23-46fd-c07d-43239c087db9"
   },
   "outputs": [
    {
     "data": {
      "text/plain": [
       "(178, 13)"
      ]
     },
     "execution_count": 9,
     "metadata": {},
     "output_type": "execute_result"
    }
   ],
   "source": [
    "X.shape"
   ]
  },
  {
   "cell_type": "code",
   "execution_count": 10,
   "metadata": {
    "colab": {
     "base_uri": "https://localhost:8080/"
    },
    "id": "F-fLEtYdpq7H",
    "outputId": "b26ff1ed-3d67-4f03-9810-61ee94ab88e3"
   },
   "outputs": [
    {
     "data": {
      "text/plain": [
       "array([1, 1, 1, 1, 1, 1, 1, 1, 1, 1, 1, 1, 1, 1, 1, 1, 1, 1, 1, 1, 1, 1,\n",
       "       1, 1, 1, 1, 1, 1, 1, 1, 1, 1, 1, 1, 1, 1, 1, 1, 1, 1, 1, 1, 1, 1,\n",
       "       1, 1, 1, 1, 1, 1, 1, 1, 1, 1, 1, 1, 1, 1, 1, 2, 2, 2, 2, 2, 2, 2,\n",
       "       2, 2, 2, 2, 2, 2, 2, 2, 2, 2, 2, 2, 2, 2, 2, 2, 2, 2, 2, 2, 2, 2,\n",
       "       2, 2, 2, 2, 2, 2, 2, 2, 2, 2, 2, 2, 2, 2, 2, 2, 2, 2, 2, 2, 2, 2,\n",
       "       2, 2, 2, 2, 2, 2, 2, 2, 2, 2, 2, 2, 2, 2, 2, 2, 2, 2, 2, 2, 3, 3,\n",
       "       3, 3, 3, 3, 3, 3, 3, 3, 3, 3, 3, 3, 3, 3, 3, 3, 3, 3, 3, 3, 3, 3,\n",
       "       3, 3, 3, 3, 3, 3, 3, 3, 3, 3, 3, 3, 3, 3, 3, 3, 3, 3, 3, 3, 3, 3,\n",
       "       3, 3])"
      ]
     },
     "execution_count": 10,
     "metadata": {},
     "output_type": "execute_result"
    }
   ],
   "source": [
    "y"
   ]
  },
  {
   "cell_type": "code",
   "execution_count": 24,
   "metadata": {
    "id": "EeIZ40C6XtYw"
   },
   "outputs": [],
   "source": [
    "# Splitting the dataset into the Training set and Test set\n",
    "from sklearn.model_selection import train_test_split\n",
    "X_train, X_test, y_train, y_test = train_test_split(X, y, test_size = 0.2, random_state = 0)"
   ]
  },
  {
   "cell_type": "code",
   "execution_count": 14,
   "metadata": {
    "colab": {
     "base_uri": "https://localhost:8080/"
    },
    "id": "XK4W4paPtZcJ",
    "outputId": "22271d9d-e0ea-45c2-97a7-00074a95e548"
   },
   "outputs": [
    {
     "data": {
      "text/plain": [
       "(142, 13)"
      ]
     },
     "execution_count": 14,
     "metadata": {},
     "output_type": "execute_result"
    }
   ],
   "source": [
    "X_train.shape"
   ]
  },
  {
   "cell_type": "code",
   "execution_count": 15,
   "metadata": {
    "colab": {
     "base_uri": "https://localhost:8080/"
    },
    "id": "X1ilD2qOtd3o",
    "outputId": "9329bb2a-5d8e-4586-bfb5-6c03e09b0767"
   },
   "outputs": [
    {
     "data": {
      "text/plain": [
       "(36, 13)"
      ]
     },
     "execution_count": 15,
     "metadata": {},
     "output_type": "execute_result"
    }
   ],
   "source": [
    "X_test.shape"
   ]
  },
  {
   "cell_type": "code",
   "execution_count": 32,
   "metadata": {
    "colab": {
     "base_uri": "https://localhost:8080/"
    },
    "id": "kyt_EP7l6vaE",
    "outputId": "3fc2fcba-e5b2-4cf7-b6bc-bfabea47f8cb"
   },
   "outputs": [
    {
     "data": {
      "text/plain": [
       "array([3, 2, 2, 3, 1, 1, 2, 2, 2, 1, 3, 2, 3, 1, 3, 3, 1, 3, 1, 2, 3, 3,\n",
       "       2, 3, 3, 1, 2, 3, 2, 2, 3, 2, 1, 2, 2, 2, 1, 1, 2, 2, 3, 3, 2, 2,\n",
       "       2, 3, 3, 1, 3, 2, 2, 2, 2, 2, 1, 1, 2, 1, 3, 1, 3, 1, 1, 2, 1, 2,\n",
       "       2, 1, 3, 2, 1, 2, 2, 2, 3, 1, 3, 3, 1, 1, 2, 3, 1, 1, 2, 2, 1, 1,\n",
       "       1, 3, 2, 1, 2, 3, 1, 2, 3, 3, 1, 1, 3, 1, 3, 2, 1, 1, 2, 1, 3, 2,\n",
       "       3, 1, 3, 3, 3, 1, 2, 2, 2, 2, 3, 3, 2, 2, 1, 2, 3, 3, 1, 1, 3, 2,\n",
       "       2, 2, 1, 1, 1, 2, 2, 2, 1, 3])"
      ]
     },
     "execution_count": 32,
     "metadata": {},
     "output_type": "execute_result"
    }
   ],
   "source": [
    "y_train"
   ]
  },
  {
   "cell_type": "code",
   "execution_count": null,
   "metadata": {
    "id": "xslOUjWs64jq"
   },
   "outputs": [],
   "source": [
    "X_test"
   ]
  },
  {
   "cell_type": "code",
   "execution_count": null,
   "metadata": {
    "colab": {
     "base_uri": "https://localhost:8080/"
    },
    "id": "XeRSUy3W7qRL",
    "outputId": "9f25fcff-bd1f-40a2-ab03-10012cf4c349"
   },
   "outputs": [
    {
     "data": {
      "text/plain": [
       "array([1, 3, 2, 1, 2, 2, 1, 3, 2, 2, 3, 3, 1, 2, 3, 2, 1, 1, 2, 1, 2, 1,\n",
       "       1, 2, 2, 2, 2, 2, 2, 3, 1, 1, 2, 1, 1, 1])"
      ]
     },
     "execution_count": 25,
     "metadata": {},
     "output_type": "execute_result"
    }
   ],
   "source": [
    "y_test"
   ]
  },
  {
   "cell_type": "markdown",
   "metadata": {
    "id": "04PIExiwtnXY"
   },
   "source": [
    "PCA"
   ]
  },
  {
   "cell_type": "markdown",
   "metadata": {
    "id": "vLSdbv7nMMBr"
   },
   "source": [
    "![image.png](data:image/png;base64,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)"
   ]
  },
  {
   "cell_type": "markdown",
   "metadata": {
    "id": "Fqr5yb6w0Ac2"
   },
   "source": [
    "Step1: Standarization"
   ]
  },
  {
   "cell_type": "code",
   "execution_count": 25,
   "metadata": {
    "id": "jmsnlwr3YH81"
   },
   "outputs": [],
   "source": [
    "# Feature Scaling \n",
    "from sklearn.preprocessing import StandardScaler\n",
    "sc = StandardScaler()\n",
    "X_train = sc.fit_transform(X_train) # training & transform\n",
    "X_test = sc.transform(X_test)"
   ]
  },
  {
   "cell_type": "code",
   "execution_count": 17,
   "metadata": {
    "colab": {
     "base_uri": "https://localhost:8080/"
    },
    "id": "W5R5EsvB7BLD",
    "outputId": "894433c5-ac6c-4af1-f082-e86d9b4031d4"
   },
   "outputs": [
    {
     "data": {
      "text/plain": [
       "array([[ 0.87668336,  0.79842885,  0.64412971, ...,  0.0290166 ,\n",
       "        -1.06412236, -0.2059076 ],\n",
       "       [-0.36659076, -0.7581304 , -0.39779858, ...,  0.0290166 ,\n",
       "        -0.73083231, -0.81704676],\n",
       "       [-1.69689407, -0.34424759, -0.32337513, ...,  0.90197362,\n",
       "         0.51900537, -1.31256499],\n",
       "       ...,\n",
       "       [-0.70227477, -0.68615078, -0.65828065, ...,  0.46549511,\n",
       "         0.51900537, -1.31256499],\n",
       "       [ 1.13777093, -0.62316862, -0.91876272, ..., -0.18922266,\n",
       "         1.03282752,  0.80164614],\n",
       "       [ 1.4610222 ,  0.12361993,  0.42085937, ..., -1.45501034,\n",
       "        -1.2168803 , -0.2719767 ]])"
      ]
     },
     "execution_count": 17,
     "metadata": {},
     "output_type": "execute_result"
    }
   ],
   "source": [
    "X_train"
   ]
  },
  {
   "cell_type": "markdown",
   "metadata": {
    "id": "H7YLNDIv0K3G"
   },
   "source": [
    "Step 2 Finding Coviariance matrix.\n",
    "\n",
    "step 3: Find out Eigen values and eigen vectors.\n",
    "\n",
    "Step4: Find PCs"
   ]
  },
  {
   "cell_type": "code",
   "execution_count": 18,
   "metadata": {
    "id": "KI7_fVWu8Mxh"
   },
   "outputs": [],
   "source": [
    "# Applying PCA\n",
    "from sklearn.decomposition import PCA\n",
    "pca = PCA(n_components = None) #13 \n",
    "X_train = pca.fit_transform(X_train)\n",
    "X_test = pca.transform(X_test)\n",
    "explained_variance = pca.explained_variance_ratio_\n"
   ]
  },
  {
   "cell_type": "code",
   "execution_count": 19,
   "metadata": {
    "colab": {
     "base_uri": "https://localhost:8080/"
    },
    "id": "CwYJDCEh_dZ0",
    "outputId": "5620b263-41f7-41cb-eae4-15b7df9c4115"
   },
   "outputs": [
    {
     "data": {
      "text/plain": [
       "array([0.36884109, 0.19318394, 0.10752862, 0.07421996, 0.06245904,\n",
       "       0.04909   , 0.04117287, 0.02495984, 0.02308855, 0.01864124,\n",
       "       0.01731766, 0.01252785, 0.00696933])"
      ]
     },
     "execution_count": 19,
     "metadata": {},
     "output_type": "execute_result"
    }
   ],
   "source": [
    "explained_variance"
   ]
  },
  {
   "cell_type": "code",
   "execution_count": 21,
   "metadata": {},
   "outputs": [
    {
     "data": {
      "text/plain": [
       "0.6695536580024907"
      ]
     },
     "execution_count": 21,
     "metadata": {},
     "output_type": "execute_result"
    }
   ],
   "source": [
    "explained_variance[:3].sum()"
   ]
  },
  {
   "cell_type": "code",
   "execution_count": 22,
   "metadata": {},
   "outputs": [
    {
     "data": {
      "text/plain": [
       "array([0.36884109, 0.56202504, 0.66955366, 0.74377362, 0.80623266,\n",
       "       0.85532266, 0.89649554, 0.92145537, 0.94454392, 0.96318516,\n",
       "       0.98050282, 0.99303067, 1.        ])"
      ]
     },
     "execution_count": 22,
     "metadata": {},
     "output_type": "execute_result"
    }
   ],
   "source": [
    "explained_variance.cumsum()"
   ]
  },
  {
   "cell_type": "code",
   "execution_count": 20,
   "metadata": {},
   "outputs": [
    {
     "data": {
      "text/plain": [
       "array([[-2.17884511, -1.07218467,  0.07256566, ...,  0.1271222 ,\n",
       "        -0.07901204,  0.4542412 ],\n",
       "       [-1.80819239,  1.57822344,  0.00896477, ..., -0.96074782,\n",
       "        -0.40434955, -0.34098912],\n",
       "       [ 1.09829474,  2.22124345, -0.1093294 , ...,  1.10392771,\n",
       "         0.10693966,  0.36900172],\n",
       "       ...,\n",
       "       [ 0.01097276,  1.99585453, -0.57933999, ..., -0.11109947,\n",
       "        -0.01706346, -0.33083897],\n",
       "       [ 2.89176687, -0.77155548,  1.10218748, ...,  0.13302355,\n",
       "        -0.17318731, -0.22802702],\n",
       "       [-2.44830439, -2.11360296,  0.79001847, ..., -0.49170902,\n",
       "         0.15199135,  0.3013311 ]])"
      ]
     },
     "execution_count": 20,
     "metadata": {},
     "output_type": "execute_result"
    }
   ],
   "source": [
    "X_train"
   ]
  },
  {
   "cell_type": "code",
   "execution_count": 33,
   "metadata": {},
   "outputs": [
    {
     "data": {
      "text/plain": [
       "0.6695536580024907"
      ]
     },
     "execution_count": 33,
     "metadata": {},
     "output_type": "execute_result"
    }
   ],
   "source": [
    "explained_variance[:3].sum()"
   ]
  },
  {
   "cell_type": "code",
   "execution_count": 26,
   "metadata": {
    "colab": {
     "base_uri": "https://localhost:8080/"
    },
    "id": "3hXR07j-k8L0",
    "outputId": "1676e71d-6cb4-4ac6-f1de-28064f14a7b7"
   },
   "outputs": [
    {
     "data": {
      "text/plain": [
       "array([0.36884109, 0.19318394, 0.10752862])"
      ]
     },
     "execution_count": 26,
     "metadata": {},
     "output_type": "execute_result"
    }
   ],
   "source": [
    "# Applying PCA\n",
    "from sklearn.decomposition import PCA\n",
    "pca = PCA(n_components = 3)\n",
    "X_train = pca.fit_transform(X_train)\n",
    "X_test = pca.transform(X_test)\n",
    "explained_variance = pca.explained_variance_ratio_\n",
    "explained_variance"
   ]
  },
  {
   "cell_type": "code",
   "execution_count": 27,
   "metadata": {},
   "outputs": [
    {
     "data": {
      "text/plain": [
       "array(['pca0', 'pca1', 'pca2'], dtype=object)"
      ]
     },
     "execution_count": 27,
     "metadata": {},
     "output_type": "execute_result"
    }
   ],
   "source": [
    "pca.get_feature_names_out()"
   ]
  },
  {
   "cell_type": "code",
   "execution_count": 29,
   "metadata": {
    "colab": {
     "base_uri": "https://localhost:8080/"
    },
    "id": "ByLGxDNmpNDV",
    "outputId": "99d7117f-4340-4d10-d516-7f2e93d433cc",
    "tags": []
   },
   "outputs": [
    {
     "name": "stdout",
     "output_type": "stream",
     "text": [
      "[[ 2.20685211e+00 -1.02850086e+00  1.03796364e+00]\n",
      " [-2.53651962e+00 -1.83644227e+00  4.82303646e-01]\n",
      " [ 2.19183305e+00  1.81240519e+00 -9.05607041e-02]\n",
      " [ 2.51489251e+00 -1.38907803e+00 -4.59264439e-01]\n",
      " [-3.47991313e-01  5.25397912e-01 -5.43680847e-01]\n",
      " [ 1.44174066e+00 -2.89674514e-01 -5.12236186e+00]\n",
      " [ 2.11892046e+00 -1.62960181e+00 -1.16456308e-01]\n",
      " [-3.06045961e+00 -6.70950629e-01  8.36930388e-02]\n",
      " [-2.35436876e-01  2.16810201e+00  4.35578266e-01]\n",
      " [-1.21230749e+00  2.12204944e+00 -8.82238835e-03]\n",
      " [-2.20706720e+00 -2.61457262e-01  8.96408192e-01]\n",
      " [-4.19759580e+00 -5.36505538e-01  1.31591239e+00]\n",
      " [ 3.11063501e+00 -2.26380692e+00  5.96514154e-01]\n",
      " [ 2.39878282e+00  1.29482006e+00  1.84077659e-01]\n",
      " [-2.16102953e+00 -1.95327620e+00 -7.54285028e-01]\n",
      " [ 9.26627235e-01  3.35678339e+00  3.04943214e-01]\n",
      " [ 1.96950425e+00 -1.65130081e+00 -1.06703394e+00]\n",
      " [ 3.61413167e+00 -2.68087967e+00  4.29919258e-01]\n",
      " [-1.71986182e+00  9.29936963e-01  1.65001690e+00]\n",
      " [ 2.93212799e+00 -8.79320756e-01 -1.43987738e-01]\n",
      " [ 2.36911995e+00  1.73171845e+00  1.88253500e+00]\n",
      " [ 1.23368522e+00 -1.56525793e-01 -8.30870188e-03]\n",
      " [ 1.07525557e+00 -8.97240861e-01 -1.97810347e+00]\n",
      " [ 5.30182248e-01  2.07877544e+00  4.24870479e-01]\n",
      " [-1.39577506e+00  1.45769587e+00  8.94752863e-01]\n",
      " [-1.31398888e-01  1.92300751e+00 -1.27026387e-01]\n",
      " [ 1.63520155e-01  1.20901871e+00 -7.13795546e-01]\n",
      " [-6.57932499e-01  2.26380220e+00 -7.91254374e-01]\n",
      " [-1.17987065e+00  8.18306993e-01 -1.92436938e+00]\n",
      " [-2.90894649e+00 -1.42996829e+00  9.06181652e-01]\n",
      " [ 1.87424562e+00 -8.00289998e-01 -2.06287984e-02]\n",
      " [ 2.78042761e+00 -1.51686134e+00  6.21338461e-01]\n",
      " [-1.64977882e+00  1.13772685e+00 -8.21891786e-01]\n",
      " [ 1.20470322e+00 -1.83160348e+00 -5.20702978e-02]\n",
      " [ 2.58037819e+00 -1.06341435e+00  1.59328372e+00]\n",
      " [ 2.18512179e+00 -5.10806875e-04  7.15482403e-01]]\n"
     ]
    }
   ],
   "source": [
    "print(X_test)"
   ]
  },
  {
   "cell_type": "code",
   "execution_count": null,
   "metadata": {
    "colab": {
     "base_uri": "https://localhost:8080/"
    },
    "collapsed": true,
    "id": "-XFIKVsupTdW",
    "jupyter": {
     "outputs_hidden": true
    },
    "outputId": "b919e5a7-1262-43d6-b6fb-675f6fff8748",
    "tags": []
   },
   "outputs": [
    {
     "name": "stdout",
     "output_type": "stream",
     "text": [
      "[[ 2.20685211e+00 -1.02850086e+00  1.03796364e+00]\n",
      " [-2.53651962e+00 -1.83644227e+00  4.82303646e-01]\n",
      " [ 2.19183305e+00  1.81240519e+00 -9.05607041e-02]\n",
      " [ 2.51489251e+00 -1.38907803e+00 -4.59264439e-01]\n",
      " [-3.47991313e-01  5.25397912e-01 -5.43680847e-01]\n",
      " [ 1.44174066e+00 -2.89674514e-01 -5.12236186e+00]\n",
      " [ 2.11892046e+00 -1.62960181e+00 -1.16456308e-01]\n",
      " [-3.06045961e+00 -6.70950629e-01  8.36930388e-02]\n",
      " [-2.35436876e-01  2.16810201e+00  4.35578266e-01]\n",
      " [-1.21230749e+00  2.12204944e+00 -8.82238835e-03]\n",
      " [-2.20706720e+00 -2.61457262e-01  8.96408192e-01]\n",
      " [-4.19759580e+00 -5.36505538e-01  1.31591239e+00]\n",
      " [ 3.11063501e+00 -2.26380692e+00  5.96514154e-01]\n",
      " [ 2.39878282e+00  1.29482006e+00  1.84077659e-01]\n",
      " [-2.16102953e+00 -1.95327620e+00 -7.54285028e-01]\n",
      " [ 9.26627235e-01  3.35678339e+00  3.04943214e-01]\n",
      " [ 1.96950425e+00 -1.65130081e+00 -1.06703394e+00]\n",
      " [ 3.61413167e+00 -2.68087967e+00  4.29919258e-01]\n",
      " [-1.71986182e+00  9.29936963e-01  1.65001690e+00]\n",
      " [ 2.93212799e+00 -8.79320756e-01 -1.43987738e-01]\n",
      " [ 2.36911995e+00  1.73171845e+00  1.88253500e+00]\n",
      " [ 1.23368522e+00 -1.56525793e-01 -8.30870188e-03]\n",
      " [ 1.07525557e+00 -8.97240861e-01 -1.97810347e+00]\n",
      " [ 5.30182248e-01  2.07877544e+00  4.24870479e-01]\n",
      " [-1.39577506e+00  1.45769587e+00  8.94752863e-01]\n",
      " [-1.31398888e-01  1.92300751e+00 -1.27026387e-01]\n",
      " [ 1.63520155e-01  1.20901871e+00 -7.13795546e-01]\n",
      " [-6.57932499e-01  2.26380220e+00 -7.91254374e-01]\n",
      " [-1.17987065e+00  8.18306993e-01 -1.92436938e+00]\n",
      " [-2.90894649e+00 -1.42996829e+00  9.06181652e-01]\n",
      " [ 1.87424562e+00 -8.00289998e-01 -2.06287984e-02]\n",
      " [ 2.78042761e+00 -1.51686134e+00  6.21338461e-01]\n",
      " [-1.64977882e+00  1.13772685e+00 -8.21891786e-01]\n",
      " [ 1.20470322e+00 -1.83160348e+00 -5.20702978e-02]\n",
      " [ 2.58037819e+00 -1.06341435e+00  1.59328372e+00]\n",
      " [ 2.18512179e+00 -5.10806875e-04  7.15482403e-01]]\n"
     ]
    }
   ],
   "source": [
    "print(X_test)"
   ]
  },
  {
   "cell_type": "code",
   "execution_count": 30,
   "metadata": {
    "colab": {
     "base_uri": "https://localhost:8080/",
     "height": 74
    },
    "id": "bpiU5ri4lrf2",
    "outputId": "5bc358ed-517b-4a00-9ed8-782f2ada53b0"
   },
   "outputs": [
    {
     "data": {
      "text/html": [
       "<style>#sk-container-id-1 {color: black;}#sk-container-id-1 pre{padding: 0;}#sk-container-id-1 div.sk-toggleable {background-color: white;}#sk-container-id-1 label.sk-toggleable__label {cursor: pointer;display: block;width: 100%;margin-bottom: 0;padding: 0.3em;box-sizing: border-box;text-align: center;}#sk-container-id-1 label.sk-toggleable__label-arrow:before {content: \"▸\";float: left;margin-right: 0.25em;color: #696969;}#sk-container-id-1 label.sk-toggleable__label-arrow:hover:before {color: black;}#sk-container-id-1 div.sk-estimator:hover label.sk-toggleable__label-arrow:before {color: black;}#sk-container-id-1 div.sk-toggleable__content {max-height: 0;max-width: 0;overflow: hidden;text-align: left;background-color: #f0f8ff;}#sk-container-id-1 div.sk-toggleable__content pre {margin: 0.2em;color: black;border-radius: 0.25em;background-color: #f0f8ff;}#sk-container-id-1 input.sk-toggleable__control:checked~div.sk-toggleable__content {max-height: 200px;max-width: 100%;overflow: auto;}#sk-container-id-1 input.sk-toggleable__control:checked~label.sk-toggleable__label-arrow:before {content: \"▾\";}#sk-container-id-1 div.sk-estimator input.sk-toggleable__control:checked~label.sk-toggleable__label {background-color: #d4ebff;}#sk-container-id-1 div.sk-label input.sk-toggleable__control:checked~label.sk-toggleable__label {background-color: #d4ebff;}#sk-container-id-1 input.sk-hidden--visually {border: 0;clip: rect(1px 1px 1px 1px);clip: rect(1px, 1px, 1px, 1px);height: 1px;margin: -1px;overflow: hidden;padding: 0;position: absolute;width: 1px;}#sk-container-id-1 div.sk-estimator {font-family: monospace;background-color: #f0f8ff;border: 1px dotted black;border-radius: 0.25em;box-sizing: border-box;margin-bottom: 0.5em;}#sk-container-id-1 div.sk-estimator:hover {background-color: #d4ebff;}#sk-container-id-1 div.sk-parallel-item::after {content: \"\";width: 100%;border-bottom: 1px solid gray;flex-grow: 1;}#sk-container-id-1 div.sk-label:hover label.sk-toggleable__label {background-color: #d4ebff;}#sk-container-id-1 div.sk-serial::before {content: \"\";position: absolute;border-left: 1px solid gray;box-sizing: border-box;top: 0;bottom: 0;left: 50%;z-index: 0;}#sk-container-id-1 div.sk-serial {display: flex;flex-direction: column;align-items: center;background-color: white;padding-right: 0.2em;padding-left: 0.2em;position: relative;}#sk-container-id-1 div.sk-item {position: relative;z-index: 1;}#sk-container-id-1 div.sk-parallel {display: flex;align-items: stretch;justify-content: center;background-color: white;position: relative;}#sk-container-id-1 div.sk-item::before, #sk-container-id-1 div.sk-parallel-item::before {content: \"\";position: absolute;border-left: 1px solid gray;box-sizing: border-box;top: 0;bottom: 0;left: 50%;z-index: -1;}#sk-container-id-1 div.sk-parallel-item {display: flex;flex-direction: column;z-index: 1;position: relative;background-color: white;}#sk-container-id-1 div.sk-parallel-item:first-child::after {align-self: flex-end;width: 50%;}#sk-container-id-1 div.sk-parallel-item:last-child::after {align-self: flex-start;width: 50%;}#sk-container-id-1 div.sk-parallel-item:only-child::after {width: 0;}#sk-container-id-1 div.sk-dashed-wrapped {border: 1px dashed gray;margin: 0 0.4em 0.5em 0.4em;box-sizing: border-box;padding-bottom: 0.4em;background-color: white;}#sk-container-id-1 div.sk-label label {font-family: monospace;font-weight: bold;display: inline-block;line-height: 1.2em;}#sk-container-id-1 div.sk-label-container {text-align: center;}#sk-container-id-1 div.sk-container {/* jupyter's `normalize.less` sets `[hidden] { display: none; }` but bootstrap.min.css set `[hidden] { display: none !important; }` so we also need the `!important` here to be able to override the default hidden behavior on the sphinx rendered scikit-learn.org. See: https://github.com/scikit-learn/scikit-learn/issues/21755 */display: inline-block !important;position: relative;}#sk-container-id-1 div.sk-text-repr-fallback {display: none;}</style><div id=\"sk-container-id-1\" class=\"sk-top-container\"><div class=\"sk-text-repr-fallback\"><pre>SVC()</pre><b>In a Jupyter environment, please rerun this cell to show the HTML representation or trust the notebook. <br />On GitHub, the HTML representation is unable to render, please try loading this page with nbviewer.org.</b></div><div class=\"sk-container\" hidden><div class=\"sk-item\"><div class=\"sk-estimator sk-toggleable\"><input class=\"sk-toggleable__control sk-hidden--visually\" id=\"sk-estimator-id-1\" type=\"checkbox\" checked><label for=\"sk-estimator-id-1\" class=\"sk-toggleable__label sk-toggleable__label-arrow\">SVC</label><div class=\"sk-toggleable__content\"><pre>SVC()</pre></div></div></div></div></div>"
      ],
      "text/plain": [
       "SVC()"
      ]
     },
     "execution_count": 30,
     "metadata": {},
     "output_type": "execute_result"
    }
   ],
   "source": [
    "# Fitting SVM to the Training set\n",
    "from sklearn.svm import SVC\n",
    "classifier = SVC()\n",
    "classifier.fit(X_train, y_train)\n"
   ]
  },
  {
   "cell_type": "code",
   "execution_count": 32,
   "metadata": {
    "id": "ep45E1MXljGm"
   },
   "outputs": [],
   "source": [
    "# Predicting the Test set results\n",
    "y_pred = classifier.predict(X_test)\n"
   ]
  },
  {
   "cell_type": "code",
   "execution_count": 33,
   "metadata": {
    "colab": {
     "base_uri": "https://localhost:8080/"
    },
    "id": "H_bEJsdqvk8w",
    "outputId": "b50e55a3-332b-4d83-bd74-655bcc8f9c9f"
   },
   "outputs": [
    {
     "data": {
      "text/plain": [
       "array([1, 3, 2, 1, 2, 2, 1, 3, 2, 2, 3, 3, 1, 2, 3, 2, 1, 1, 2, 1, 2, 1,\n",
       "       1, 2, 2, 2, 2, 2, 2, 3, 1, 1, 2, 1, 1, 1])"
      ]
     },
     "execution_count": 33,
     "metadata": {},
     "output_type": "execute_result"
    }
   ],
   "source": [
    "y_pred"
   ]
  },
  {
   "cell_type": "code",
   "execution_count": null,
   "metadata": {
    "id": "YylGG6xHzGjc"
   },
   "outputs": [],
   "source": [
    "# Actual output- Y_test\n",
    "# predicted  Output- y_pred\n",
    "# Accuracy\n"
   ]
  },
  {
   "cell_type": "code",
   "execution_count": 34,
   "metadata": {
    "colab": {
     "base_uri": "https://localhost:8080/"
    },
    "id": "rguJ7ORO1VcX",
    "outputId": "833bf07c-a5d3-4499-e8b0-ded6c8aa082b"
   },
   "outputs": [
    {
     "name": "stdout",
     "output_type": "stream",
     "text": [
      "[[14  0  0]\n",
      " [ 0 16  0]\n",
      " [ 0  0  6]]\n"
     ]
    }
   ],
   "source": [
    "# Making the Confusion Matrix\n",
    "from sklearn.metrics import confusion_matrix\n",
    "cm = confusion_matrix(y_test, y_pred)\n",
    "\n",
    "print(cm)"
   ]
  },
  {
   "cell_type": "code",
   "execution_count": 35,
   "metadata": {
    "colab": {
     "base_uri": "https://localhost:8080/"
    },
    "id": "jvTzIjO4bGYB",
    "outputId": "6af5087f-c032-4c07-af5d-112975da57d3"
   },
   "outputs": [
    {
     "name": "stdout",
     "output_type": "stream",
     "text": [
      "Accuracy: 100.00\n"
     ]
    }
   ],
   "source": [
    "from sklearn.metrics import accuracy_score\n",
    "print('Accuracy: %.2f' % (accuracy_score(y_test, y_pred)*100))"
   ]
  },
  {
   "cell_type": "code",
   "execution_count": 36,
   "metadata": {},
   "outputs": [
    {
     "name": "stdout",
     "output_type": "stream",
     "text": [
      "Accuracy: 98.59\n"
     ]
    }
   ],
   "source": [
    "# Predicting the Train set results\n",
    "y_pred_train = classifier.predict(X_train)\n",
    "print('Accuracy: %.2f' % (accuracy_score(y_train, y_pred_train)*100))"
   ]
  },
  {
   "cell_type": "code",
   "execution_count": 37,
   "metadata": {
    "colab": {
     "base_uri": "https://localhost:8080/"
    },
    "id": "AwgYp3rtNTNr",
    "outputId": "c888272a-016f-4e4a-8d2f-7b30a4c54775"
   },
   "outputs": [
    {
     "name": "stdout",
     "output_type": "stream",
     "text": [
      "[INFO] Saving model...\n"
     ]
    }
   ],
   "source": [
    "import pickle\n",
    "print(\"[INFO] Saving model...\")\n",
    "# Save the trained model as a pickle string.\n",
    "saved_model=pickle.dump(classifier,open('pca.pkl', 'wb'))\n",
    "# Saving model to disk"
   ]
  },
  {
   "cell_type": "code",
   "execution_count": 45,
   "metadata": {
    "colab": {
     "base_uri": "https://localhost:8080/"
    },
    "id": "yhDXiAruNYnj",
    "outputId": "1fdb6612-4006-45fe-e3f2-16d90c241959"
   },
   "outputs": [
    {
     "data": {
      "text/plain": [
       "array([1, 3, 2, 1, 2, 2, 1, 3, 2, 2, 3, 3, 1, 2, 3, 2, 1, 1, 2, 1, 2, 1,\n",
       "       1, 2, 2, 2, 2, 2, 2, 3, 1, 1, 2, 1, 1, 1])"
      ]
     },
     "execution_count": 45,
     "metadata": {},
     "output_type": "execute_result"
    }
   ],
   "source": [
    "# Load the pickled model\n",
    "model = pickle.load(open('pca.pkl', 'rb'))\n",
    "# Use the loaded pickled model to make predictions\n",
    "model.predict(X_test)"
   ]
  },
  {
   "cell_type": "code",
   "execution_count": 67,
   "metadata": {},
   "outputs": [],
   "source": [
    "X1=[Alcohol,Malic_Acid,Ash,Ash_Alcanity,Magnesium,Total_Phenols,Flavanoids,Nonflavanoid_Phenols,Proanthocyanins,\n",
    "Color_Intensity,Hue,OD280,Proline]"
   ]
  },
  {
   "cell_type": "code",
   "execution_count": 68,
   "metadata": {},
   "outputs": [
    {
     "data": {
      "text/plain": [
       "[4, 1.71, 2.43, 15.6, 127, 2.8, 3.06, 0.28, 2.29, 5.64, 1.04, 3.92, 1065]"
      ]
     },
     "execution_count": 68,
     "metadata": {},
     "output_type": "execute_result"
    }
   ],
   "source": [
    "X1"
   ]
  },
  {
   "cell_type": "code",
   "execution_count": 69,
   "metadata": {},
   "outputs": [
    {
     "data": {
      "text/plain": [
       "13"
      ]
     },
     "execution_count": 69,
     "metadata": {},
     "output_type": "execute_result"
    }
   ],
   "source": [
    "len(X1)"
   ]
  },
  {
   "cell_type": "code",
   "execution_count": 38,
   "metadata": {},
   "outputs": [
    {
     "data": {
      "text/html": [
       "<div>\n",
       "<style scoped>\n",
       "    .dataframe tbody tr th:only-of-type {\n",
       "        vertical-align: middle;\n",
       "    }\n",
       "\n",
       "    .dataframe tbody tr th {\n",
       "        vertical-align: top;\n",
       "    }\n",
       "\n",
       "    .dataframe thead th {\n",
       "        text-align: right;\n",
       "    }\n",
       "</style>\n",
       "<table border=\"1\" class=\"dataframe\">\n",
       "  <thead>\n",
       "    <tr style=\"text-align: right;\">\n",
       "      <th></th>\n",
       "      <th>Label</th>\n",
       "      <th>Alcohol</th>\n",
       "      <th>Malic Acid</th>\n",
       "      <th>Ash</th>\n",
       "      <th>Alcalinity of ash</th>\n",
       "      <th>Magnesium</th>\n",
       "      <th>Total phenols</th>\n",
       "      <th>Flavanoids</th>\n",
       "      <th>Nonflavanoid phenols</th>\n",
       "      <th>Proanthocyanins</th>\n",
       "      <th>Color intensity</th>\n",
       "      <th>Hue</th>\n",
       "      <th>OD280/OD315 of diluted wines</th>\n",
       "      <th>Proline</th>\n",
       "    </tr>\n",
       "  </thead>\n",
       "  <tbody>\n",
       "    <tr>\n",
       "      <th>0</th>\n",
       "      <td>1</td>\n",
       "      <td>14.23</td>\n",
       "      <td>1.71</td>\n",
       "      <td>2.43</td>\n",
       "      <td>15.6</td>\n",
       "      <td>127</td>\n",
       "      <td>2.80</td>\n",
       "      <td>3.06</td>\n",
       "      <td>0.28</td>\n",
       "      <td>2.29</td>\n",
       "      <td>5.64</td>\n",
       "      <td>1.04</td>\n",
       "      <td>3.92</td>\n",
       "      <td>1065</td>\n",
       "    </tr>\n",
       "    <tr>\n",
       "      <th>1</th>\n",
       "      <td>1</td>\n",
       "      <td>13.20</td>\n",
       "      <td>1.78</td>\n",
       "      <td>2.14</td>\n",
       "      <td>11.2</td>\n",
       "      <td>100</td>\n",
       "      <td>2.65</td>\n",
       "      <td>2.76</td>\n",
       "      <td>0.26</td>\n",
       "      <td>1.28</td>\n",
       "      <td>4.38</td>\n",
       "      <td>1.05</td>\n",
       "      <td>3.40</td>\n",
       "      <td>1050</td>\n",
       "    </tr>\n",
       "    <tr>\n",
       "      <th>2</th>\n",
       "      <td>1</td>\n",
       "      <td>13.16</td>\n",
       "      <td>2.36</td>\n",
       "      <td>2.67</td>\n",
       "      <td>18.6</td>\n",
       "      <td>101</td>\n",
       "      <td>2.80</td>\n",
       "      <td>3.24</td>\n",
       "      <td>0.30</td>\n",
       "      <td>2.81</td>\n",
       "      <td>5.68</td>\n",
       "      <td>1.03</td>\n",
       "      <td>3.17</td>\n",
       "      <td>1185</td>\n",
       "    </tr>\n",
       "    <tr>\n",
       "      <th>3</th>\n",
       "      <td>1</td>\n",
       "      <td>14.37</td>\n",
       "      <td>1.95</td>\n",
       "      <td>2.50</td>\n",
       "      <td>16.8</td>\n",
       "      <td>113</td>\n",
       "      <td>3.85</td>\n",
       "      <td>3.49</td>\n",
       "      <td>0.24</td>\n",
       "      <td>2.18</td>\n",
       "      <td>7.80</td>\n",
       "      <td>0.86</td>\n",
       "      <td>3.45</td>\n",
       "      <td>1480</td>\n",
       "    </tr>\n",
       "    <tr>\n",
       "      <th>4</th>\n",
       "      <td>1</td>\n",
       "      <td>13.24</td>\n",
       "      <td>2.59</td>\n",
       "      <td>2.87</td>\n",
       "      <td>21.0</td>\n",
       "      <td>118</td>\n",
       "      <td>2.80</td>\n",
       "      <td>2.69</td>\n",
       "      <td>0.39</td>\n",
       "      <td>1.82</td>\n",
       "      <td>4.32</td>\n",
       "      <td>1.04</td>\n",
       "      <td>2.93</td>\n",
       "      <td>735</td>\n",
       "    </tr>\n",
       "    <tr>\n",
       "      <th>...</th>\n",
       "      <td>...</td>\n",
       "      <td>...</td>\n",
       "      <td>...</td>\n",
       "      <td>...</td>\n",
       "      <td>...</td>\n",
       "      <td>...</td>\n",
       "      <td>...</td>\n",
       "      <td>...</td>\n",
       "      <td>...</td>\n",
       "      <td>...</td>\n",
       "      <td>...</td>\n",
       "      <td>...</td>\n",
       "      <td>...</td>\n",
       "      <td>...</td>\n",
       "    </tr>\n",
       "    <tr>\n",
       "      <th>173</th>\n",
       "      <td>3</td>\n",
       "      <td>13.71</td>\n",
       "      <td>5.65</td>\n",
       "      <td>2.45</td>\n",
       "      <td>20.5</td>\n",
       "      <td>95</td>\n",
       "      <td>1.68</td>\n",
       "      <td>0.61</td>\n",
       "      <td>0.52</td>\n",
       "      <td>1.06</td>\n",
       "      <td>7.70</td>\n",
       "      <td>0.64</td>\n",
       "      <td>1.74</td>\n",
       "      <td>740</td>\n",
       "    </tr>\n",
       "    <tr>\n",
       "      <th>174</th>\n",
       "      <td>3</td>\n",
       "      <td>13.40</td>\n",
       "      <td>3.91</td>\n",
       "      <td>2.48</td>\n",
       "      <td>23.0</td>\n",
       "      <td>102</td>\n",
       "      <td>1.80</td>\n",
       "      <td>0.75</td>\n",
       "      <td>0.43</td>\n",
       "      <td>1.41</td>\n",
       "      <td>7.30</td>\n",
       "      <td>0.70</td>\n",
       "      <td>1.56</td>\n",
       "      <td>750</td>\n",
       "    </tr>\n",
       "    <tr>\n",
       "      <th>175</th>\n",
       "      <td>3</td>\n",
       "      <td>13.27</td>\n",
       "      <td>4.28</td>\n",
       "      <td>2.26</td>\n",
       "      <td>20.0</td>\n",
       "      <td>120</td>\n",
       "      <td>1.59</td>\n",
       "      <td>0.69</td>\n",
       "      <td>0.43</td>\n",
       "      <td>1.35</td>\n",
       "      <td>10.20</td>\n",
       "      <td>0.59</td>\n",
       "      <td>1.56</td>\n",
       "      <td>835</td>\n",
       "    </tr>\n",
       "    <tr>\n",
       "      <th>176</th>\n",
       "      <td>3</td>\n",
       "      <td>13.17</td>\n",
       "      <td>2.59</td>\n",
       "      <td>2.37</td>\n",
       "      <td>20.0</td>\n",
       "      <td>120</td>\n",
       "      <td>1.65</td>\n",
       "      <td>0.68</td>\n",
       "      <td>0.53</td>\n",
       "      <td>1.46</td>\n",
       "      <td>9.30</td>\n",
       "      <td>0.60</td>\n",
       "      <td>1.62</td>\n",
       "      <td>840</td>\n",
       "    </tr>\n",
       "    <tr>\n",
       "      <th>177</th>\n",
       "      <td>3</td>\n",
       "      <td>14.13</td>\n",
       "      <td>4.10</td>\n",
       "      <td>2.74</td>\n",
       "      <td>24.5</td>\n",
       "      <td>96</td>\n",
       "      <td>2.05</td>\n",
       "      <td>0.76</td>\n",
       "      <td>0.56</td>\n",
       "      <td>1.35</td>\n",
       "      <td>9.20</td>\n",
       "      <td>0.61</td>\n",
       "      <td>1.60</td>\n",
       "      <td>560</td>\n",
       "    </tr>\n",
       "  </tbody>\n",
       "</table>\n",
       "<p>178 rows × 14 columns</p>\n",
       "</div>"
      ],
      "text/plain": [
       "     Label  Alcohol  Malic Acid   Ash  Alcalinity of ash   Magnesium  \\\n",
       "0        1    14.23        1.71  2.43                15.6        127   \n",
       "1        1    13.20        1.78  2.14                11.2        100   \n",
       "2        1    13.16        2.36  2.67                18.6        101   \n",
       "3        1    14.37        1.95  2.50                16.8        113   \n",
       "4        1    13.24        2.59  2.87                21.0        118   \n",
       "..     ...      ...         ...   ...                 ...        ...   \n",
       "173      3    13.71        5.65  2.45                20.5         95   \n",
       "174      3    13.40        3.91  2.48                23.0        102   \n",
       "175      3    13.27        4.28  2.26                20.0        120   \n",
       "176      3    13.17        2.59  2.37                20.0        120   \n",
       "177      3    14.13        4.10  2.74                24.5         96   \n",
       "\n",
       "     Total phenols  Flavanoids  Nonflavanoid phenols  Proanthocyanins  \\\n",
       "0             2.80        3.06                  0.28             2.29   \n",
       "1             2.65        2.76                  0.26             1.28   \n",
       "2             2.80        3.24                  0.30             2.81   \n",
       "3             3.85        3.49                  0.24             2.18   \n",
       "4             2.80        2.69                  0.39             1.82   \n",
       "..             ...         ...                   ...              ...   \n",
       "173           1.68        0.61                  0.52             1.06   \n",
       "174           1.80        0.75                  0.43             1.41   \n",
       "175           1.59        0.69                  0.43             1.35   \n",
       "176           1.65        0.68                  0.53             1.46   \n",
       "177           2.05        0.76                  0.56             1.35   \n",
       "\n",
       "     Color intensity   Hue  OD280/OD315 of diluted wines  Proline  \n",
       "0               5.64  1.04                          3.92     1065  \n",
       "1               4.38  1.05                          3.40     1050  \n",
       "2               5.68  1.03                          3.17     1185  \n",
       "3               7.80  0.86                          3.45     1480  \n",
       "4               4.32  1.04                          2.93      735  \n",
       "..               ...   ...                           ...      ...  \n",
       "173             7.70  0.64                          1.74      740  \n",
       "174             7.30  0.70                          1.56      750  \n",
       "175            10.20  0.59                          1.56      835  \n",
       "176             9.30  0.60                          1.62      840  \n",
       "177             9.20  0.61                          1.60      560  \n",
       "\n",
       "[178 rows x 14 columns]"
      ]
     },
     "execution_count": 38,
     "metadata": {},
     "output_type": "execute_result"
    }
   ],
   "source": [
    "dataset"
   ]
  },
  {
   "cell_type": "code",
   "execution_count": 39,
   "metadata": {},
   "outputs": [
    {
     "data": {
      "text/plain": [
       "array([[4.000e+00, 1.710e+00, 2.430e+00, 1.560e+01, 1.270e+02, 2.800e+00,\n",
       "        3.060e+00, 2.800e-01, 2.290e+00, 5.640e+00, 1.040e+00, 3.920e+00,\n",
       "        1.065e+03],\n",
       "       [4.000e+00, 1.710e+00, 2.430e+00, 1.560e+01, 1.270e+02, 2.800e+00,\n",
       "        3.060e+00, 2.800e-01, 2.290e+00, 5.640e+00, 1.040e+00, 3.920e+00,\n",
       "        1.065e+03],\n",
       "       [4.000e+00, 1.710e+00, 2.430e+00, 1.560e+01, 1.270e+02, 2.800e+00,\n",
       "        3.060e+00, 2.800e-01, 2.290e+00, 5.640e+00, 1.040e+00, 3.920e+00,\n",
       "        1.065e+03]])"
      ]
     },
     "execution_count": 39,
     "metadata": {},
     "output_type": "execute_result"
    }
   ],
   "source": [
    "arr=np.array([[4, 1.71, 2.43, 15.6, 127, 2.8, 3.06, 0.28, 2.29, 5.64, 1.04, 3.92, 1065],\n",
    "              [4, 1.71, 2.43, 15.6, 127, 2.8, 3.06, 0.28, 2.29, 5.64, 1.04, 3.92, 1065],\n",
    "              [4, 1.71, 2.43, 15.6, 127, 2.8, 3.06, 0.28, 2.29, 5.64, 1.04, 3.92, 1065]])\n",
    "arr"
   ]
  },
  {
   "cell_type": "code",
   "execution_count": 40,
   "metadata": {},
   "outputs": [
    {
     "data": {
      "text/plain": [
       "(3, 13)"
      ]
     },
     "execution_count": 40,
     "metadata": {},
     "output_type": "execute_result"
    }
   ],
   "source": [
    "arr.shape"
   ]
  },
  {
   "cell_type": "code",
   "execution_count": 41,
   "metadata": {
    "colab": {
     "base_uri": "https://localhost:8080/"
    },
    "id": "xema9C--T9bK",
    "outputId": "78907dba-6cbf-4aea-ece1-221eab74ca42"
   },
   "outputs": [
    {
     "name": "stdout",
     "output_type": "stream",
     "text": [
      "[[0.0000000e+00 0.0000000e+00 0.0000000e+00 0.0000000e+00 0.0000000e+00\n",
      "  4.4408921e-16 0.0000000e+00 0.0000000e+00 0.0000000e+00 0.0000000e+00\n",
      "  0.0000000e+00 0.0000000e+00 0.0000000e+00]\n",
      " [0.0000000e+00 0.0000000e+00 0.0000000e+00 0.0000000e+00 0.0000000e+00\n",
      "  4.4408921e-16 0.0000000e+00 0.0000000e+00 0.0000000e+00 0.0000000e+00\n",
      "  0.0000000e+00 0.0000000e+00 0.0000000e+00]\n",
      " [0.0000000e+00 0.0000000e+00 0.0000000e+00 0.0000000e+00 0.0000000e+00\n",
      "  4.4408921e-16 0.0000000e+00 0.0000000e+00 0.0000000e+00 0.0000000e+00\n",
      "  0.0000000e+00 0.0000000e+00 0.0000000e+00]]\n"
     ]
    }
   ],
   "source": [
    "X1 = sc.fit_transform(arr)\n",
    "\n",
    "print(X1)"
   ]
  },
  {
   "cell_type": "code",
   "execution_count": 80,
   "metadata": {},
   "outputs": [
    {
     "data": {
      "text/plain": [
       "(3, 13)"
      ]
     },
     "execution_count": 80,
     "metadata": {},
     "output_type": "execute_result"
    }
   ],
   "source": [
    "X1.shape"
   ]
  },
  {
   "cell_type": "code",
   "execution_count": 42,
   "metadata": {},
   "outputs": [],
   "source": [
    "import warnings\n",
    "warnings.filterwarnings('ignore')"
   ]
  },
  {
   "cell_type": "code",
   "execution_count": 43,
   "metadata": {
    "colab": {
     "base_uri": "https://localhost:8080/"
    },
    "id": "0ZHRQGgyUSkF",
    "outputId": "e02afedb-c4af-4260-d42e-822a6cf52381"
   },
   "outputs": [
    {
     "name": "stdout",
     "output_type": "stream",
     "text": [
      "[[-1.13814894e-15  5.62236333e-16  3.82184051e-15]\n",
      " [-1.13814894e-15  5.62236333e-16  3.82184051e-15]\n",
      " [-1.13814894e-15  5.62236333e-16  3.82184051e-15]]\n"
     ]
    }
   ],
   "source": [
    "X1 = pca.transform(X1)\n",
    "print(X1)"
   ]
  },
  {
   "cell_type": "code",
   "execution_count": 46,
   "metadata": {
    "colab": {
     "base_uri": "https://localhost:8080/"
    },
    "id": "7r6QL0HKU-FA",
    "outputId": "a5d11668-0aa4-40b7-bc73-688aa5f43e92"
   },
   "outputs": [
    {
     "name": "stdout",
     "output_type": "stream",
     "text": [
      "class = [1 1 1]\n"
     ]
    }
   ],
   "source": [
    "output=model.predict(X1)\n",
    "print(\"class =\", output)"
   ]
  },
  {
   "cell_type": "code",
   "execution_count": null,
   "metadata": {},
   "outputs": [],
   "source": [
    "success"
   ]
  },
  {
   "cell_type": "code",
   "execution_count": null,
   "metadata": {},
   "outputs": [],
   "source": [
    "1000 rows\n",
    "\n",
    "800 rows----600 rows training 200 validate the model\n",
    "\n",
    "200 new data test -test \n",
    "\n",
    "500 -300  "
   ]
  }
 ],
 "metadata": {
  "colab": {
   "provenance": []
  },
  "kernelspec": {
   "display_name": "Python 3 [3.10]",
   "language": "python",
   "name": "python3"
  },
  "language_info": {
   "codemirror_mode": {
    "name": "ipython",
    "version": 3
   },
   "file_extension": ".py",
   "mimetype": "text/x-python",
   "name": "python",
   "nbconvert_exporter": "python",
   "pygments_lexer": "ipython3",
   "version": "3.10.2"
  }
 },
 "nbformat": 4,
 "nbformat_minor": 4
}
